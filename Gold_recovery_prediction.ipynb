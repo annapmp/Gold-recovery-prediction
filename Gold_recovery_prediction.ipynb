{
 "cells": [
  {
   "cell_type": "markdown",
   "metadata": {
    "toc": true
   },
   "source": [
    "<h1>Table of Contents<span class=\"tocSkip\"></span></h1>\n",
    "<div class=\"toc\"><ul class=\"toc-item\"><li><ul class=\"toc-item\"><li><span><a href=\"#General-feedback\" data-toc-modified-id=\"General-feedback-0.1\"><font color=\"orange\">General feedback</font></a></span></li></ul></li><li><span><a href=\"#Goal\" data-toc-modified-id=\"Goal-1\">Goal</a></span></li><li><span><a href=\"#Data-description\" data-toc-modified-id=\"Data-description-2\">Data description</a></span></li><li><span><a href=\"#Feature-naming\" data-toc-modified-id=\"Feature-naming-3\">Feature naming</a></span></li><li><span><a href=\"#Imports\" data-toc-modified-id=\"Imports-4\">Imports</a></span></li><li><span><a href=\"#Input-data\" data-toc-modified-id=\"Input-data-5\">Input data</a></span></li><li><span><a href=\"#Descriptive-statistics\" data-toc-modified-id=\"Descriptive-statistics-6\">Descriptive statistics</a></span></li><li><span><a href=\"#Recovery-calculation-check\" data-toc-modified-id=\"Recovery-calculation-check-7\">Recovery calculation check</a></span></li><li><span><a href=\"#Missing-features-analysis\" data-toc-modified-id=\"Missing-features-analysis-8\">Missing features analysis</a></span></li><li><span><a href=\"#Preprocessing\" data-toc-modified-id=\"Preprocessing-9\">Preprocessing</a></span><ul class=\"toc-item\"><li><span><a href=\"#Data-type-change\" data-toc-modified-id=\"Data-type-change-9.1\">Data type change</a></span></li><li><span><a href=\"#Test-targets\" data-toc-modified-id=\"Test-targets-9.2\">Test targets</a></span></li><li><span><a href=\"#Missing-values\" data-toc-modified-id=\"Missing-values-9.3\">Missing values</a></span></li><li><span><a href=\"#Duplicates\" data-toc-modified-id=\"Duplicates-9.4\">Duplicates</a></span></li></ul></li><li><span><a href=\"#EDA\" data-toc-modified-id=\"EDA-10\">EDA</a></span><ul class=\"toc-item\"><li><span><a href=\"#Concentrations-of-metals\" data-toc-modified-id=\"Concentrations-of-metals-10.1\">Concentrations of metals</a></span></li><li><span><a href=\"#Feed-particle-size-comparison\" data-toc-modified-id=\"Feed-particle-size-comparison-10.2\">Feed particle size comparison</a></span></li><li><span><a href=\"#Outliers\" data-toc-modified-id=\"Outliers-10.3\">Outliers</a></span></li><li><span><a href=\"#Target-analysis\" data-toc-modified-id=\"Target-analysis-10.4\">Target analysis</a></span></li></ul></li><li><span><a href=\"#Common-columns\" data-toc-modified-id=\"Common-columns-11\">Common columns</a></span></li><li><span><a href=\"#Standard-scaling\" data-toc-modified-id=\"Standard-scaling-12\">Standard scaling</a></span></li><li><span><a href=\"#Evaluation-metric\" data-toc-modified-id=\"Evaluation-metric-13\">Evaluation metric</a></span></li><li><span><a href=\"#Model-selection\" data-toc-modified-id=\"Model-selection-14\">Model selection</a></span></li><li><span><a href=\"#Hyperparameter-tuning\" data-toc-modified-id=\"Hyperparameter-tuning-15\">Hyperparameter tuning</a></span></li><li><span><a href=\"#Test-the-model\" data-toc-modified-id=\"Test-the-model-16\">Test the model</a></span></li><li><span><a href=\"#Feature-importances\" data-toc-modified-id=\"Feature-importances-17\">Feature importances</a></span></li><li><span><a href=\"#Sanity-check\" data-toc-modified-id=\"Sanity-check-18\">Sanity check</a></span></li></ul></div>"
   ]
  },
  {
   "cell_type": "markdown",
   "metadata": {},
   "source": [
    "## Goal\n",
    "\n",
    "Develop a machine learning model for Zyfra, efficiency solutions for heavy industry company, that would analyze data on extraction and purification of gold from an ore and predict the amount of recovered gold. The model will help to optimize the production and eliminate unprofitable parameters."
   ]
  },
  {
   "cell_type": "markdown",
   "metadata": {},
   "source": [
    "## Data description\n",
    "\n",
    "**Technological process**\n",
    "\n",
    "- *Rougher feed* — raw material\n",
    "- *Rougher additions* (or *reagent additions*) — flotation reagents: *Xanthate, Sulphate, Depressant*\n",
    "    - *Xanthate* — promoter or flotation activator;\n",
    "    - *Sulphate* — sodium sulphide for this particular process;\n",
    "    - *Depressant* — sodium silicate.\n",
    "- *Rougher process* — flotation\n",
    "- *Rougher tails* — product residues\n",
    "- *Float banks* — flotation unit\n",
    "- *Cleaner process* — purification\n",
    "- *Rougher Au* — rougher gold concentrate\n",
    "- *Final Au* — final gold concentrate\n",
    "\n",
    "**Parameters of stages**\n",
    "\n",
    "- *air amount — volume of air*\n",
    "- *fluid levels*\n",
    "- *feed size* — feed particle size\n",
    "- *feed rate*\n",
    "\n",
    "## Feature naming\n",
    "\n",
    "Here's how we name the features:\n",
    "\n",
    "`[stage].[parameter_type].[parameter_name]`\n",
    "\n",
    "Example: `rougher.input.feed_ag`\n",
    "\n",
    "Possible values for `[stage]`:\n",
    "\n",
    "- *rougher —* flotation\n",
    "- *primary_cleaner* — primary purification\n",
    "- *secondary_cleaner* — secondary purification\n",
    "- *final* — final characteristics\n",
    "\n",
    "Possible values for `[parameter_type]`:\n",
    "\n",
    "- *input* — raw material parameters\n",
    "- *output* — product parameters\n",
    "- *state* — parameters characterizing the current state of the stage\n",
    "- *calculation —* calculation characteristics"
   ]
  },
  {
   "cell_type": "markdown",
   "metadata": {},
   "source": [
    "## Imports"
   ]
  },
  {
   "cell_type": "code",
   "execution_count": 1,
   "metadata": {},
   "outputs": [
    {
     "name": "stdout",
     "output_type": "stream",
     "text": [
      "Setup Complete\n"
     ]
    }
   ],
   "source": [
    "import pandas as pd\n",
    "import matplotlib\n",
    "import numpy as np\n",
    "import seaborn as sns\n",
    "\n",
    "from sklearn.preprocessing import StandardScaler as ss\n",
    "\n",
    "from sklearn.dummy import DummyRegressor\n",
    "from sklearn import linear_model\n",
    "from sklearn.linear_model import LinearRegression, Lasso, Ridge\n",
    "from sklearn.tree import DecisionTreeRegressor\n",
    "from sklearn.ensemble import RandomForestRegressor\n",
    "from sklearn import svm\n",
    "\n",
    "from sklearn.model_selection import cross_val_score\n",
    "from sklearn.metrics import make_scorer\n",
    "\n",
    "import matplotlib.pyplot as plt\n",
    "%matplotlib inline\n",
    "\n",
    "import sys\n",
    "import warnings\n",
    "if not sys.warnoptions:\n",
    "       warnings.simplefilter(\"ignore\")\n",
    "\n",
    "pd.set_option('display.max_rows', None, 'display.max_columns', None)\n",
    "\n",
    "print(\"Setup Complete\")"
   ]
  },
  {
   "cell_type": "markdown",
   "metadata": {},
   "source": [
    "## Input data"
   ]
  },
  {
   "cell_type": "code",
   "execution_count": 2,
   "metadata": {},
   "outputs": [],
   "source": [
    "try:\n",
    "    df_train = pd.read_csv('C:/Users/anna/Desktop/DS Yandex/IntegratedProject2/gold_recovery_train.csv')\n",
    "    df_test = pd.read_csv('C:/Users/anna/Desktop/DS Yandex/IntegratedProject2/gold_recovery_test.csv')\n",
    "    df_full = pd.read_csv('C:/Users/anna/Desktop/DS Yandex/IntegratedProject2/gold_recovery_full.csv')\n",
    "    \n",
    "except:\n",
    "    df_train = pd.read_csv('/datasets/gold_recovery_train.csv')\n",
    "    df_test = pd.read_csv('/datasets/gold_recovery_test.csv')\n",
    "    df_full = pd.read_csv('/datasets/gold_recovery_full.csv')"
   ]
  },
  {
   "cell_type": "markdown",
   "metadata": {},
   "source": [
    "## Descriptive statistics"
   ]
  },
  {
   "cell_type": "code",
   "execution_count": 3,
   "metadata": {},
   "outputs": [
    {
     "data": {
      "text/html": [
       "<div>\n",
       "<style scoped>\n",
       "    .dataframe tbody tr th:only-of-type {\n",
       "        vertical-align: middle;\n",
       "    }\n",
       "\n",
       "    .dataframe tbody tr th {\n",
       "        vertical-align: top;\n",
       "    }\n",
       "\n",
       "    .dataframe thead th {\n",
       "        text-align: right;\n",
       "    }\n",
       "</style>\n",
       "<table border=\"1\" class=\"dataframe\">\n",
       "  <thead>\n",
       "    <tr style=\"text-align: right;\">\n",
       "      <th></th>\n",
       "      <th>date</th>\n",
       "      <th>final.output.concentrate_ag</th>\n",
       "      <th>final.output.concentrate_pb</th>\n",
       "      <th>final.output.concentrate_sol</th>\n",
       "      <th>final.output.concentrate_au</th>\n",
       "      <th>final.output.recovery</th>\n",
       "      <th>final.output.tail_ag</th>\n",
       "      <th>final.output.tail_pb</th>\n",
       "      <th>final.output.tail_sol</th>\n",
       "      <th>final.output.tail_au</th>\n",
       "      <th>primary_cleaner.input.sulfate</th>\n",
       "      <th>primary_cleaner.input.depressant</th>\n",
       "      <th>primary_cleaner.input.feed_size</th>\n",
       "      <th>primary_cleaner.input.xanthate</th>\n",
       "      <th>primary_cleaner.output.concentrate_ag</th>\n",
       "      <th>primary_cleaner.output.concentrate_pb</th>\n",
       "      <th>primary_cleaner.output.concentrate_sol</th>\n",
       "      <th>primary_cleaner.output.concentrate_au</th>\n",
       "      <th>primary_cleaner.output.tail_ag</th>\n",
       "      <th>primary_cleaner.output.tail_pb</th>\n",
       "      <th>primary_cleaner.output.tail_sol</th>\n",
       "      <th>primary_cleaner.output.tail_au</th>\n",
       "      <th>primary_cleaner.state.floatbank8_a_air</th>\n",
       "      <th>primary_cleaner.state.floatbank8_a_level</th>\n",
       "      <th>primary_cleaner.state.floatbank8_b_air</th>\n",
       "      <th>primary_cleaner.state.floatbank8_b_level</th>\n",
       "      <th>primary_cleaner.state.floatbank8_c_air</th>\n",
       "      <th>primary_cleaner.state.floatbank8_c_level</th>\n",
       "      <th>primary_cleaner.state.floatbank8_d_air</th>\n",
       "      <th>primary_cleaner.state.floatbank8_d_level</th>\n",
       "      <th>rougher.calculation.sulfate_to_au_concentrate</th>\n",
       "      <th>rougher.calculation.floatbank10_sulfate_to_au_feed</th>\n",
       "      <th>rougher.calculation.floatbank11_sulfate_to_au_feed</th>\n",
       "      <th>rougher.calculation.au_pb_ratio</th>\n",
       "      <th>rougher.input.feed_ag</th>\n",
       "      <th>rougher.input.feed_pb</th>\n",
       "      <th>rougher.input.feed_rate</th>\n",
       "      <th>rougher.input.feed_size</th>\n",
       "      <th>rougher.input.feed_sol</th>\n",
       "      <th>rougher.input.feed_au</th>\n",
       "      <th>rougher.input.floatbank10_sulfate</th>\n",
       "      <th>rougher.input.floatbank10_xanthate</th>\n",
       "      <th>rougher.input.floatbank11_sulfate</th>\n",
       "      <th>rougher.input.floatbank11_xanthate</th>\n",
       "      <th>rougher.output.concentrate_ag</th>\n",
       "      <th>rougher.output.concentrate_pb</th>\n",
       "      <th>rougher.output.concentrate_sol</th>\n",
       "      <th>rougher.output.concentrate_au</th>\n",
       "      <th>rougher.output.recovery</th>\n",
       "      <th>rougher.output.tail_ag</th>\n",
       "      <th>rougher.output.tail_pb</th>\n",
       "      <th>rougher.output.tail_sol</th>\n",
       "      <th>rougher.output.tail_au</th>\n",
       "      <th>rougher.state.floatbank10_a_air</th>\n",
       "      <th>rougher.state.floatbank10_a_level</th>\n",
       "      <th>rougher.state.floatbank10_b_air</th>\n",
       "      <th>rougher.state.floatbank10_b_level</th>\n",
       "      <th>rougher.state.floatbank10_c_air</th>\n",
       "      <th>rougher.state.floatbank10_c_level</th>\n",
       "      <th>rougher.state.floatbank10_d_air</th>\n",
       "      <th>rougher.state.floatbank10_d_level</th>\n",
       "      <th>rougher.state.floatbank10_e_air</th>\n",
       "      <th>rougher.state.floatbank10_e_level</th>\n",
       "      <th>rougher.state.floatbank10_f_air</th>\n",
       "      <th>rougher.state.floatbank10_f_level</th>\n",
       "      <th>secondary_cleaner.output.tail_ag</th>\n",
       "      <th>secondary_cleaner.output.tail_pb</th>\n",
       "      <th>secondary_cleaner.output.tail_sol</th>\n",
       "      <th>secondary_cleaner.output.tail_au</th>\n",
       "      <th>secondary_cleaner.state.floatbank2_a_air</th>\n",
       "      <th>secondary_cleaner.state.floatbank2_a_level</th>\n",
       "      <th>secondary_cleaner.state.floatbank2_b_air</th>\n",
       "      <th>secondary_cleaner.state.floatbank2_b_level</th>\n",
       "      <th>secondary_cleaner.state.floatbank3_a_air</th>\n",
       "      <th>secondary_cleaner.state.floatbank3_a_level</th>\n",
       "      <th>secondary_cleaner.state.floatbank3_b_air</th>\n",
       "      <th>secondary_cleaner.state.floatbank3_b_level</th>\n",
       "      <th>secondary_cleaner.state.floatbank4_a_air</th>\n",
       "      <th>secondary_cleaner.state.floatbank4_a_level</th>\n",
       "      <th>secondary_cleaner.state.floatbank4_b_air</th>\n",
       "      <th>secondary_cleaner.state.floatbank4_b_level</th>\n",
       "      <th>secondary_cleaner.state.floatbank5_a_air</th>\n",
       "      <th>secondary_cleaner.state.floatbank5_a_level</th>\n",
       "      <th>secondary_cleaner.state.floatbank5_b_air</th>\n",
       "      <th>secondary_cleaner.state.floatbank5_b_level</th>\n",
       "      <th>secondary_cleaner.state.floatbank6_a_air</th>\n",
       "      <th>secondary_cleaner.state.floatbank6_a_level</th>\n",
       "    </tr>\n",
       "  </thead>\n",
       "  <tbody>\n",
       "    <tr>\n",
       "      <th>0</th>\n",
       "      <td>2016-01-15 00:00:00</td>\n",
       "      <td>6.055403</td>\n",
       "      <td>9.889648</td>\n",
       "      <td>5.507324</td>\n",
       "      <td>42.192020</td>\n",
       "      <td>70.541216</td>\n",
       "      <td>10.411962</td>\n",
       "      <td>0.895447</td>\n",
       "      <td>16.904297</td>\n",
       "      <td>2.143149</td>\n",
       "      <td>127.092003</td>\n",
       "      <td>10.128295</td>\n",
       "      <td>7.25</td>\n",
       "      <td>0.988759</td>\n",
       "      <td>8.547551</td>\n",
       "      <td>10.389648</td>\n",
       "      <td>19.529297</td>\n",
       "      <td>34.174427</td>\n",
       "      <td>14.936526</td>\n",
       "      <td>2.534912</td>\n",
       "      <td>7.476074</td>\n",
       "      <td>2.106679</td>\n",
       "      <td>1549.775757</td>\n",
       "      <td>-498.912140</td>\n",
       "      <td>1551.434204</td>\n",
       "      <td>-516.403442</td>\n",
       "      <td>1549.873901</td>\n",
       "      <td>-498.666595</td>\n",
       "      <td>1554.367432</td>\n",
       "      <td>-493.428131</td>\n",
       "      <td>41885.707031</td>\n",
       "      <td>3481.779053</td>\n",
       "      <td>3520.337158</td>\n",
       "      <td>2.838687</td>\n",
       "      <td>6.100378</td>\n",
       "      <td>2.284912</td>\n",
       "      <td>523.546326</td>\n",
       "      <td>55.486599</td>\n",
       "      <td>36.808594</td>\n",
       "      <td>6.486150</td>\n",
       "      <td>11.986616</td>\n",
       "      <td>6.007990</td>\n",
       "      <td>11.836743</td>\n",
       "      <td>6.005818</td>\n",
       "      <td>11.500771</td>\n",
       "      <td>7.101074</td>\n",
       "      <td>28.029297</td>\n",
       "      <td>19.793808</td>\n",
       "      <td>87.107763</td>\n",
       "      <td>5.008018</td>\n",
       "      <td>0.508728</td>\n",
       "      <td>19.154297</td>\n",
       "      <td>1.170244</td>\n",
       "      <td>999.706909</td>\n",
       "      <td>-404.066986</td>\n",
       "      <td>1603.011353</td>\n",
       "      <td>-434.715027</td>\n",
       "      <td>1602.375000</td>\n",
       "      <td>-442.204468</td>\n",
       "      <td>1598.937256</td>\n",
       "      <td>-451.294128</td>\n",
       "      <td>1404.472046</td>\n",
       "      <td>-455.462982</td>\n",
       "      <td>1416.354980</td>\n",
       "      <td>-451.939636</td>\n",
       "      <td>14.500184</td>\n",
       "      <td>4.694824</td>\n",
       "      <td>8.764648</td>\n",
       "      <td>2.606185</td>\n",
       "      <td>25.853109</td>\n",
       "      <td>-498.526489</td>\n",
       "      <td>23.893660</td>\n",
       "      <td>-501.406281</td>\n",
       "      <td>23.961798</td>\n",
       "      <td>-495.262817</td>\n",
       "      <td>21.940409</td>\n",
       "      <td>-499.340973</td>\n",
       "      <td>14.016835</td>\n",
       "      <td>-502.488007</td>\n",
       "      <td>12.099931</td>\n",
       "      <td>-504.715942</td>\n",
       "      <td>9.925633</td>\n",
       "      <td>-498.310211</td>\n",
       "      <td>8.079666</td>\n",
       "      <td>-500.470978</td>\n",
       "      <td>14.151341</td>\n",
       "      <td>-605.841980</td>\n",
       "    </tr>\n",
       "    <tr>\n",
       "      <th>1</th>\n",
       "      <td>2016-01-15 01:00:00</td>\n",
       "      <td>6.029369</td>\n",
       "      <td>9.968944</td>\n",
       "      <td>5.257781</td>\n",
       "      <td>42.701629</td>\n",
       "      <td>69.266198</td>\n",
       "      <td>10.462676</td>\n",
       "      <td>0.927452</td>\n",
       "      <td>16.634514</td>\n",
       "      <td>2.224930</td>\n",
       "      <td>125.629232</td>\n",
       "      <td>10.296251</td>\n",
       "      <td>7.25</td>\n",
       "      <td>1.002663</td>\n",
       "      <td>8.558743</td>\n",
       "      <td>10.497069</td>\n",
       "      <td>19.369147</td>\n",
       "      <td>34.118526</td>\n",
       "      <td>16.250511</td>\n",
       "      <td>3.049646</td>\n",
       "      <td>6.733907</td>\n",
       "      <td>2.353017</td>\n",
       "      <td>1576.166671</td>\n",
       "      <td>-500.904965</td>\n",
       "      <td>1575.950626</td>\n",
       "      <td>-499.865889</td>\n",
       "      <td>1575.994189</td>\n",
       "      <td>-499.315107</td>\n",
       "      <td>1574.479259</td>\n",
       "      <td>-498.931665</td>\n",
       "      <td>42050.861809</td>\n",
       "      <td>3498.370979</td>\n",
       "      <td>3489.981857</td>\n",
       "      <td>2.858998</td>\n",
       "      <td>6.161113</td>\n",
       "      <td>2.266033</td>\n",
       "      <td>525.290581</td>\n",
       "      <td>57.278666</td>\n",
       "      <td>35.753385</td>\n",
       "      <td>6.478583</td>\n",
       "      <td>11.971193</td>\n",
       "      <td>6.005766</td>\n",
       "      <td>11.996163</td>\n",
       "      <td>6.012594</td>\n",
       "      <td>11.615865</td>\n",
       "      <td>7.278807</td>\n",
       "      <td>28.067063</td>\n",
       "      <td>20.050975</td>\n",
       "      <td>86.843261</td>\n",
       "      <td>4.955378</td>\n",
       "      <td>0.536689</td>\n",
       "      <td>18.965234</td>\n",
       "      <td>1.184827</td>\n",
       "      <td>1000.286398</td>\n",
       "      <td>-400.065196</td>\n",
       "      <td>1600.754587</td>\n",
       "      <td>-449.953435</td>\n",
       "      <td>1600.479580</td>\n",
       "      <td>-449.830646</td>\n",
       "      <td>1600.527589</td>\n",
       "      <td>-449.953649</td>\n",
       "      <td>1399.227084</td>\n",
       "      <td>-450.869848</td>\n",
       "      <td>1399.719514</td>\n",
       "      <td>-450.119001</td>\n",
       "      <td>14.265474</td>\n",
       "      <td>4.592547</td>\n",
       "      <td>9.001494</td>\n",
       "      <td>2.488248</td>\n",
       "      <td>25.880539</td>\n",
       "      <td>-499.989656</td>\n",
       "      <td>23.889530</td>\n",
       "      <td>-500.372428</td>\n",
       "      <td>23.970550</td>\n",
       "      <td>-500.085473</td>\n",
       "      <td>22.085714</td>\n",
       "      <td>-499.446897</td>\n",
       "      <td>13.992281</td>\n",
       "      <td>-505.503262</td>\n",
       "      <td>11.950531</td>\n",
       "      <td>-501.331529</td>\n",
       "      <td>10.039245</td>\n",
       "      <td>-500.169983</td>\n",
       "      <td>7.984757</td>\n",
       "      <td>-500.582168</td>\n",
       "      <td>13.998353</td>\n",
       "      <td>-599.787184</td>\n",
       "    </tr>\n",
       "    <tr>\n",
       "      <th>2</th>\n",
       "      <td>2016-01-15 02:00:00</td>\n",
       "      <td>6.055926</td>\n",
       "      <td>10.213995</td>\n",
       "      <td>5.383759</td>\n",
       "      <td>42.657501</td>\n",
       "      <td>68.116445</td>\n",
       "      <td>10.507046</td>\n",
       "      <td>0.953716</td>\n",
       "      <td>16.208849</td>\n",
       "      <td>2.257889</td>\n",
       "      <td>123.819808</td>\n",
       "      <td>11.316280</td>\n",
       "      <td>7.25</td>\n",
       "      <td>0.991265</td>\n",
       "      <td>8.603505</td>\n",
       "      <td>10.354494</td>\n",
       "      <td>19.167579</td>\n",
       "      <td>33.969464</td>\n",
       "      <td>16.491823</td>\n",
       "      <td>3.124664</td>\n",
       "      <td>6.471768</td>\n",
       "      <td>2.416800</td>\n",
       "      <td>1601.556163</td>\n",
       "      <td>-499.997791</td>\n",
       "      <td>1600.386685</td>\n",
       "      <td>-500.607762</td>\n",
       "      <td>1602.003542</td>\n",
       "      <td>-500.870069</td>\n",
       "      <td>1599.541515</td>\n",
       "      <td>-499.827444</td>\n",
       "      <td>42018.101184</td>\n",
       "      <td>3495.348910</td>\n",
       "      <td>3502.359819</td>\n",
       "      <td>2.945989</td>\n",
       "      <td>6.116455</td>\n",
       "      <td>2.159622</td>\n",
       "      <td>530.026610</td>\n",
       "      <td>57.510649</td>\n",
       "      <td>35.971630</td>\n",
       "      <td>6.362222</td>\n",
       "      <td>11.920603</td>\n",
       "      <td>6.197377</td>\n",
       "      <td>11.920305</td>\n",
       "      <td>6.204633</td>\n",
       "      <td>11.695753</td>\n",
       "      <td>7.216833</td>\n",
       "      <td>27.454037</td>\n",
       "      <td>19.737170</td>\n",
       "      <td>86.842308</td>\n",
       "      <td>4.843460</td>\n",
       "      <td>0.546416</td>\n",
       "      <td>18.808533</td>\n",
       "      <td>1.162562</td>\n",
       "      <td>999.719565</td>\n",
       "      <td>-400.074028</td>\n",
       "      <td>1599.337330</td>\n",
       "      <td>-450.008530</td>\n",
       "      <td>1599.672797</td>\n",
       "      <td>-449.954491</td>\n",
       "      <td>1599.849325</td>\n",
       "      <td>-449.954185</td>\n",
       "      <td>1399.180945</td>\n",
       "      <td>-449.937588</td>\n",
       "      <td>1400.316682</td>\n",
       "      <td>-450.527147</td>\n",
       "      <td>14.115662</td>\n",
       "      <td>4.624775</td>\n",
       "      <td>8.842896</td>\n",
       "      <td>2.458187</td>\n",
       "      <td>26.005245</td>\n",
       "      <td>-499.929616</td>\n",
       "      <td>23.886657</td>\n",
       "      <td>-499.951928</td>\n",
       "      <td>23.913535</td>\n",
       "      <td>-499.442343</td>\n",
       "      <td>23.957717</td>\n",
       "      <td>-499.901982</td>\n",
       "      <td>14.015015</td>\n",
       "      <td>-502.520901</td>\n",
       "      <td>11.912783</td>\n",
       "      <td>-501.133383</td>\n",
       "      <td>10.070913</td>\n",
       "      <td>-500.129135</td>\n",
       "      <td>8.013877</td>\n",
       "      <td>-500.517572</td>\n",
       "      <td>14.028663</td>\n",
       "      <td>-601.427363</td>\n",
       "    </tr>\n",
       "    <tr>\n",
       "      <th>3</th>\n",
       "      <td>2016-01-15 03:00:00</td>\n",
       "      <td>6.047977</td>\n",
       "      <td>9.977019</td>\n",
       "      <td>4.858634</td>\n",
       "      <td>42.689819</td>\n",
       "      <td>68.347543</td>\n",
       "      <td>10.422762</td>\n",
       "      <td>0.883763</td>\n",
       "      <td>16.532835</td>\n",
       "      <td>2.146849</td>\n",
       "      <td>122.270188</td>\n",
       "      <td>11.322140</td>\n",
       "      <td>7.25</td>\n",
       "      <td>0.996739</td>\n",
       "      <td>7.221879</td>\n",
       "      <td>8.496563</td>\n",
       "      <td>15.978538</td>\n",
       "      <td>28.260743</td>\n",
       "      <td>16.024359</td>\n",
       "      <td>2.960362</td>\n",
       "      <td>6.843791</td>\n",
       "      <td>2.262051</td>\n",
       "      <td>1599.968720</td>\n",
       "      <td>-500.951778</td>\n",
       "      <td>1600.659236</td>\n",
       "      <td>-499.677094</td>\n",
       "      <td>1600.304144</td>\n",
       "      <td>-500.727997</td>\n",
       "      <td>1600.449520</td>\n",
       "      <td>-500.052575</td>\n",
       "      <td>42029.447991</td>\n",
       "      <td>3498.578313</td>\n",
       "      <td>3499.162912</td>\n",
       "      <td>3.002340</td>\n",
       "      <td>6.043309</td>\n",
       "      <td>2.037807</td>\n",
       "      <td>542.590390</td>\n",
       "      <td>57.792734</td>\n",
       "      <td>36.862241</td>\n",
       "      <td>6.118189</td>\n",
       "      <td>11.630094</td>\n",
       "      <td>6.203177</td>\n",
       "      <td>11.692450</td>\n",
       "      <td>6.196578</td>\n",
       "      <td>11.915047</td>\n",
       "      <td>7.175616</td>\n",
       "      <td>27.341277</td>\n",
       "      <td>19.320810</td>\n",
       "      <td>87.226430</td>\n",
       "      <td>4.655288</td>\n",
       "      <td>0.542525</td>\n",
       "      <td>19.330200</td>\n",
       "      <td>1.079755</td>\n",
       "      <td>999.814770</td>\n",
       "      <td>-400.200179</td>\n",
       "      <td>1600.059442</td>\n",
       "      <td>-450.619948</td>\n",
       "      <td>1600.012842</td>\n",
       "      <td>-449.910497</td>\n",
       "      <td>1597.725177</td>\n",
       "      <td>-450.130127</td>\n",
       "      <td>1400.943157</td>\n",
       "      <td>-450.030142</td>\n",
       "      <td>1400.234743</td>\n",
       "      <td>-449.790835</td>\n",
       "      <td>13.732071</td>\n",
       "      <td>4.482453</td>\n",
       "      <td>9.122857</td>\n",
       "      <td>2.322062</td>\n",
       "      <td>25.942508</td>\n",
       "      <td>-499.176749</td>\n",
       "      <td>23.955516</td>\n",
       "      <td>-499.848796</td>\n",
       "      <td>23.966838</td>\n",
       "      <td>-500.008812</td>\n",
       "      <td>23.954443</td>\n",
       "      <td>-499.944710</td>\n",
       "      <td>14.036510</td>\n",
       "      <td>-500.857308</td>\n",
       "      <td>11.999550</td>\n",
       "      <td>-501.193686</td>\n",
       "      <td>9.970366</td>\n",
       "      <td>-499.201640</td>\n",
       "      <td>7.977324</td>\n",
       "      <td>-500.255908</td>\n",
       "      <td>14.005551</td>\n",
       "      <td>-599.996129</td>\n",
       "    </tr>\n",
       "    <tr>\n",
       "      <th>4</th>\n",
       "      <td>2016-01-15 04:00:00</td>\n",
       "      <td>6.148599</td>\n",
       "      <td>10.142511</td>\n",
       "      <td>4.939416</td>\n",
       "      <td>42.774141</td>\n",
       "      <td>66.927016</td>\n",
       "      <td>10.360302</td>\n",
       "      <td>0.792826</td>\n",
       "      <td>16.525686</td>\n",
       "      <td>2.055292</td>\n",
       "      <td>117.988169</td>\n",
       "      <td>11.913613</td>\n",
       "      <td>7.25</td>\n",
       "      <td>1.009869</td>\n",
       "      <td>9.089428</td>\n",
       "      <td>9.986786</td>\n",
       "      <td>19.199864</td>\n",
       "      <td>33.044932</td>\n",
       "      <td>16.480185</td>\n",
       "      <td>3.112100</td>\n",
       "      <td>6.550154</td>\n",
       "      <td>2.277073</td>\n",
       "      <td>1601.339707</td>\n",
       "      <td>-498.975456</td>\n",
       "      <td>1601.437854</td>\n",
       "      <td>-500.323246</td>\n",
       "      <td>1599.581894</td>\n",
       "      <td>-500.888152</td>\n",
       "      <td>1602.649541</td>\n",
       "      <td>-500.593010</td>\n",
       "      <td>42125.354245</td>\n",
       "      <td>3494.800771</td>\n",
       "      <td>3506.679315</td>\n",
       "      <td>3.169615</td>\n",
       "      <td>6.060915</td>\n",
       "      <td>1.786875</td>\n",
       "      <td>540.531893</td>\n",
       "      <td>56.047189</td>\n",
       "      <td>34.347666</td>\n",
       "      <td>5.663707</td>\n",
       "      <td>10.957755</td>\n",
       "      <td>6.198826</td>\n",
       "      <td>10.960521</td>\n",
       "      <td>6.194897</td>\n",
       "      <td>12.411054</td>\n",
       "      <td>7.240205</td>\n",
       "      <td>27.041023</td>\n",
       "      <td>19.216101</td>\n",
       "      <td>86.688794</td>\n",
       "      <td>4.552800</td>\n",
       "      <td>0.515438</td>\n",
       "      <td>19.267422</td>\n",
       "      <td>1.012642</td>\n",
       "      <td>999.678690</td>\n",
       "      <td>-399.752729</td>\n",
       "      <td>1600.208824</td>\n",
       "      <td>-449.599614</td>\n",
       "      <td>1600.357732</td>\n",
       "      <td>-450.034364</td>\n",
       "      <td>1599.759049</td>\n",
       "      <td>-449.909799</td>\n",
       "      <td>1401.560902</td>\n",
       "      <td>-448.877187</td>\n",
       "      <td>1401.160227</td>\n",
       "      <td>-450.407128</td>\n",
       "      <td>14.079996</td>\n",
       "      <td>4.470737</td>\n",
       "      <td>8.871028</td>\n",
       "      <td>2.330448</td>\n",
       "      <td>26.024787</td>\n",
       "      <td>-500.279091</td>\n",
       "      <td>23.955345</td>\n",
       "      <td>-500.593614</td>\n",
       "      <td>23.985703</td>\n",
       "      <td>-500.083811</td>\n",
       "      <td>23.958945</td>\n",
       "      <td>-499.990309</td>\n",
       "      <td>14.027298</td>\n",
       "      <td>-499.838632</td>\n",
       "      <td>11.953070</td>\n",
       "      <td>-501.053894</td>\n",
       "      <td>9.925709</td>\n",
       "      <td>-501.686727</td>\n",
       "      <td>7.894242</td>\n",
       "      <td>-500.356035</td>\n",
       "      <td>13.996647</td>\n",
       "      <td>-601.496691</td>\n",
       "    </tr>\n",
       "  </tbody>\n",
       "</table>\n",
       "</div>"
      ],
      "text/plain": [
       "                  date  final.output.concentrate_ag  \\\n",
       "0  2016-01-15 00:00:00                     6.055403   \n",
       "1  2016-01-15 01:00:00                     6.029369   \n",
       "2  2016-01-15 02:00:00                     6.055926   \n",
       "3  2016-01-15 03:00:00                     6.047977   \n",
       "4  2016-01-15 04:00:00                     6.148599   \n",
       "\n",
       "   final.output.concentrate_pb  final.output.concentrate_sol  \\\n",
       "0                     9.889648                      5.507324   \n",
       "1                     9.968944                      5.257781   \n",
       "2                    10.213995                      5.383759   \n",
       "3                     9.977019                      4.858634   \n",
       "4                    10.142511                      4.939416   \n",
       "\n",
       "   final.output.concentrate_au  final.output.recovery  final.output.tail_ag  \\\n",
       "0                    42.192020              70.541216             10.411962   \n",
       "1                    42.701629              69.266198             10.462676   \n",
       "2                    42.657501              68.116445             10.507046   \n",
       "3                    42.689819              68.347543             10.422762   \n",
       "4                    42.774141              66.927016             10.360302   \n",
       "\n",
       "   final.output.tail_pb  final.output.tail_sol  final.output.tail_au  \\\n",
       "0              0.895447              16.904297              2.143149   \n",
       "1              0.927452              16.634514              2.224930   \n",
       "2              0.953716              16.208849              2.257889   \n",
       "3              0.883763              16.532835              2.146849   \n",
       "4              0.792826              16.525686              2.055292   \n",
       "\n",
       "   primary_cleaner.input.sulfate  primary_cleaner.input.depressant  \\\n",
       "0                     127.092003                         10.128295   \n",
       "1                     125.629232                         10.296251   \n",
       "2                     123.819808                         11.316280   \n",
       "3                     122.270188                         11.322140   \n",
       "4                     117.988169                         11.913613   \n",
       "\n",
       "   primary_cleaner.input.feed_size  primary_cleaner.input.xanthate  \\\n",
       "0                             7.25                        0.988759   \n",
       "1                             7.25                        1.002663   \n",
       "2                             7.25                        0.991265   \n",
       "3                             7.25                        0.996739   \n",
       "4                             7.25                        1.009869   \n",
       "\n",
       "   primary_cleaner.output.concentrate_ag  \\\n",
       "0                               8.547551   \n",
       "1                               8.558743   \n",
       "2                               8.603505   \n",
       "3                               7.221879   \n",
       "4                               9.089428   \n",
       "\n",
       "   primary_cleaner.output.concentrate_pb  \\\n",
       "0                              10.389648   \n",
       "1                              10.497069   \n",
       "2                              10.354494   \n",
       "3                               8.496563   \n",
       "4                               9.986786   \n",
       "\n",
       "   primary_cleaner.output.concentrate_sol  \\\n",
       "0                               19.529297   \n",
       "1                               19.369147   \n",
       "2                               19.167579   \n",
       "3                               15.978538   \n",
       "4                               19.199864   \n",
       "\n",
       "   primary_cleaner.output.concentrate_au  primary_cleaner.output.tail_ag  \\\n",
       "0                              34.174427                       14.936526   \n",
       "1                              34.118526                       16.250511   \n",
       "2                              33.969464                       16.491823   \n",
       "3                              28.260743                       16.024359   \n",
       "4                              33.044932                       16.480185   \n",
       "\n",
       "   primary_cleaner.output.tail_pb  primary_cleaner.output.tail_sol  \\\n",
       "0                        2.534912                         7.476074   \n",
       "1                        3.049646                         6.733907   \n",
       "2                        3.124664                         6.471768   \n",
       "3                        2.960362                         6.843791   \n",
       "4                        3.112100                         6.550154   \n",
       "\n",
       "   primary_cleaner.output.tail_au  primary_cleaner.state.floatbank8_a_air  \\\n",
       "0                        2.106679                             1549.775757   \n",
       "1                        2.353017                             1576.166671   \n",
       "2                        2.416800                             1601.556163   \n",
       "3                        2.262051                             1599.968720   \n",
       "4                        2.277073                             1601.339707   \n",
       "\n",
       "   primary_cleaner.state.floatbank8_a_level  \\\n",
       "0                               -498.912140   \n",
       "1                               -500.904965   \n",
       "2                               -499.997791   \n",
       "3                               -500.951778   \n",
       "4                               -498.975456   \n",
       "\n",
       "   primary_cleaner.state.floatbank8_b_air  \\\n",
       "0                             1551.434204   \n",
       "1                             1575.950626   \n",
       "2                             1600.386685   \n",
       "3                             1600.659236   \n",
       "4                             1601.437854   \n",
       "\n",
       "   primary_cleaner.state.floatbank8_b_level  \\\n",
       "0                               -516.403442   \n",
       "1                               -499.865889   \n",
       "2                               -500.607762   \n",
       "3                               -499.677094   \n",
       "4                               -500.323246   \n",
       "\n",
       "   primary_cleaner.state.floatbank8_c_air  \\\n",
       "0                             1549.873901   \n",
       "1                             1575.994189   \n",
       "2                             1602.003542   \n",
       "3                             1600.304144   \n",
       "4                             1599.581894   \n",
       "\n",
       "   primary_cleaner.state.floatbank8_c_level  \\\n",
       "0                               -498.666595   \n",
       "1                               -499.315107   \n",
       "2                               -500.870069   \n",
       "3                               -500.727997   \n",
       "4                               -500.888152   \n",
       "\n",
       "   primary_cleaner.state.floatbank8_d_air  \\\n",
       "0                             1554.367432   \n",
       "1                             1574.479259   \n",
       "2                             1599.541515   \n",
       "3                             1600.449520   \n",
       "4                             1602.649541   \n",
       "\n",
       "   primary_cleaner.state.floatbank8_d_level  \\\n",
       "0                               -493.428131   \n",
       "1                               -498.931665   \n",
       "2                               -499.827444   \n",
       "3                               -500.052575   \n",
       "4                               -500.593010   \n",
       "\n",
       "   rougher.calculation.sulfate_to_au_concentrate  \\\n",
       "0                                   41885.707031   \n",
       "1                                   42050.861809   \n",
       "2                                   42018.101184   \n",
       "3                                   42029.447991   \n",
       "4                                   42125.354245   \n",
       "\n",
       "   rougher.calculation.floatbank10_sulfate_to_au_feed  \\\n",
       "0                                        3481.779053    \n",
       "1                                        3498.370979    \n",
       "2                                        3495.348910    \n",
       "3                                        3498.578313    \n",
       "4                                        3494.800771    \n",
       "\n",
       "   rougher.calculation.floatbank11_sulfate_to_au_feed  \\\n",
       "0                                        3520.337158    \n",
       "1                                        3489.981857    \n",
       "2                                        3502.359819    \n",
       "3                                        3499.162912    \n",
       "4                                        3506.679315    \n",
       "\n",
       "   rougher.calculation.au_pb_ratio  rougher.input.feed_ag  \\\n",
       "0                         2.838687               6.100378   \n",
       "1                         2.858998               6.161113   \n",
       "2                         2.945989               6.116455   \n",
       "3                         3.002340               6.043309   \n",
       "4                         3.169615               6.060915   \n",
       "\n",
       "   rougher.input.feed_pb  rougher.input.feed_rate  rougher.input.feed_size  \\\n",
       "0               2.284912               523.546326                55.486599   \n",
       "1               2.266033               525.290581                57.278666   \n",
       "2               2.159622               530.026610                57.510649   \n",
       "3               2.037807               542.590390                57.792734   \n",
       "4               1.786875               540.531893                56.047189   \n",
       "\n",
       "   rougher.input.feed_sol  rougher.input.feed_au  \\\n",
       "0               36.808594               6.486150   \n",
       "1               35.753385               6.478583   \n",
       "2               35.971630               6.362222   \n",
       "3               36.862241               6.118189   \n",
       "4               34.347666               5.663707   \n",
       "\n",
       "   rougher.input.floatbank10_sulfate  rougher.input.floatbank10_xanthate  \\\n",
       "0                          11.986616                            6.007990   \n",
       "1                          11.971193                            6.005766   \n",
       "2                          11.920603                            6.197377   \n",
       "3                          11.630094                            6.203177   \n",
       "4                          10.957755                            6.198826   \n",
       "\n",
       "   rougher.input.floatbank11_sulfate  rougher.input.floatbank11_xanthate  \\\n",
       "0                          11.836743                            6.005818   \n",
       "1                          11.996163                            6.012594   \n",
       "2                          11.920305                            6.204633   \n",
       "3                          11.692450                            6.196578   \n",
       "4                          10.960521                            6.194897   \n",
       "\n",
       "   rougher.output.concentrate_ag  rougher.output.concentrate_pb  \\\n",
       "0                      11.500771                       7.101074   \n",
       "1                      11.615865                       7.278807   \n",
       "2                      11.695753                       7.216833   \n",
       "3                      11.915047                       7.175616   \n",
       "4                      12.411054                       7.240205   \n",
       "\n",
       "   rougher.output.concentrate_sol  rougher.output.concentrate_au  \\\n",
       "0                       28.029297                      19.793808   \n",
       "1                       28.067063                      20.050975   \n",
       "2                       27.454037                      19.737170   \n",
       "3                       27.341277                      19.320810   \n",
       "4                       27.041023                      19.216101   \n",
       "\n",
       "   rougher.output.recovery  rougher.output.tail_ag  rougher.output.tail_pb  \\\n",
       "0                87.107763                5.008018                0.508728   \n",
       "1                86.843261                4.955378                0.536689   \n",
       "2                86.842308                4.843460                0.546416   \n",
       "3                87.226430                4.655288                0.542525   \n",
       "4                86.688794                4.552800                0.515438   \n",
       "\n",
       "   rougher.output.tail_sol  rougher.output.tail_au  \\\n",
       "0                19.154297                1.170244   \n",
       "1                18.965234                1.184827   \n",
       "2                18.808533                1.162562   \n",
       "3                19.330200                1.079755   \n",
       "4                19.267422                1.012642   \n",
       "\n",
       "   rougher.state.floatbank10_a_air  rougher.state.floatbank10_a_level  \\\n",
       "0                       999.706909                        -404.066986   \n",
       "1                      1000.286398                        -400.065196   \n",
       "2                       999.719565                        -400.074028   \n",
       "3                       999.814770                        -400.200179   \n",
       "4                       999.678690                        -399.752729   \n",
       "\n",
       "   rougher.state.floatbank10_b_air  rougher.state.floatbank10_b_level  \\\n",
       "0                      1603.011353                        -434.715027   \n",
       "1                      1600.754587                        -449.953435   \n",
       "2                      1599.337330                        -450.008530   \n",
       "3                      1600.059442                        -450.619948   \n",
       "4                      1600.208824                        -449.599614   \n",
       "\n",
       "   rougher.state.floatbank10_c_air  rougher.state.floatbank10_c_level  \\\n",
       "0                      1602.375000                        -442.204468   \n",
       "1                      1600.479580                        -449.830646   \n",
       "2                      1599.672797                        -449.954491   \n",
       "3                      1600.012842                        -449.910497   \n",
       "4                      1600.357732                        -450.034364   \n",
       "\n",
       "   rougher.state.floatbank10_d_air  rougher.state.floatbank10_d_level  \\\n",
       "0                      1598.937256                        -451.294128   \n",
       "1                      1600.527589                        -449.953649   \n",
       "2                      1599.849325                        -449.954185   \n",
       "3                      1597.725177                        -450.130127   \n",
       "4                      1599.759049                        -449.909799   \n",
       "\n",
       "   rougher.state.floatbank10_e_air  rougher.state.floatbank10_e_level  \\\n",
       "0                      1404.472046                        -455.462982   \n",
       "1                      1399.227084                        -450.869848   \n",
       "2                      1399.180945                        -449.937588   \n",
       "3                      1400.943157                        -450.030142   \n",
       "4                      1401.560902                        -448.877187   \n",
       "\n",
       "   rougher.state.floatbank10_f_air  rougher.state.floatbank10_f_level  \\\n",
       "0                      1416.354980                        -451.939636   \n",
       "1                      1399.719514                        -450.119001   \n",
       "2                      1400.316682                        -450.527147   \n",
       "3                      1400.234743                        -449.790835   \n",
       "4                      1401.160227                        -450.407128   \n",
       "\n",
       "   secondary_cleaner.output.tail_ag  secondary_cleaner.output.tail_pb  \\\n",
       "0                         14.500184                          4.694824   \n",
       "1                         14.265474                          4.592547   \n",
       "2                         14.115662                          4.624775   \n",
       "3                         13.732071                          4.482453   \n",
       "4                         14.079996                          4.470737   \n",
       "\n",
       "   secondary_cleaner.output.tail_sol  secondary_cleaner.output.tail_au  \\\n",
       "0                           8.764648                          2.606185   \n",
       "1                           9.001494                          2.488248   \n",
       "2                           8.842896                          2.458187   \n",
       "3                           9.122857                          2.322062   \n",
       "4                           8.871028                          2.330448   \n",
       "\n",
       "   secondary_cleaner.state.floatbank2_a_air  \\\n",
       "0                                 25.853109   \n",
       "1                                 25.880539   \n",
       "2                                 26.005245   \n",
       "3                                 25.942508   \n",
       "4                                 26.024787   \n",
       "\n",
       "   secondary_cleaner.state.floatbank2_a_level  \\\n",
       "0                                 -498.526489   \n",
       "1                                 -499.989656   \n",
       "2                                 -499.929616   \n",
       "3                                 -499.176749   \n",
       "4                                 -500.279091   \n",
       "\n",
       "   secondary_cleaner.state.floatbank2_b_air  \\\n",
       "0                                 23.893660   \n",
       "1                                 23.889530   \n",
       "2                                 23.886657   \n",
       "3                                 23.955516   \n",
       "4                                 23.955345   \n",
       "\n",
       "   secondary_cleaner.state.floatbank2_b_level  \\\n",
       "0                                 -501.406281   \n",
       "1                                 -500.372428   \n",
       "2                                 -499.951928   \n",
       "3                                 -499.848796   \n",
       "4                                 -500.593614   \n",
       "\n",
       "   secondary_cleaner.state.floatbank3_a_air  \\\n",
       "0                                 23.961798   \n",
       "1                                 23.970550   \n",
       "2                                 23.913535   \n",
       "3                                 23.966838   \n",
       "4                                 23.985703   \n",
       "\n",
       "   secondary_cleaner.state.floatbank3_a_level  \\\n",
       "0                                 -495.262817   \n",
       "1                                 -500.085473   \n",
       "2                                 -499.442343   \n",
       "3                                 -500.008812   \n",
       "4                                 -500.083811   \n",
       "\n",
       "   secondary_cleaner.state.floatbank3_b_air  \\\n",
       "0                                 21.940409   \n",
       "1                                 22.085714   \n",
       "2                                 23.957717   \n",
       "3                                 23.954443   \n",
       "4                                 23.958945   \n",
       "\n",
       "   secondary_cleaner.state.floatbank3_b_level  \\\n",
       "0                                 -499.340973   \n",
       "1                                 -499.446897   \n",
       "2                                 -499.901982   \n",
       "3                                 -499.944710   \n",
       "4                                 -499.990309   \n",
       "\n",
       "   secondary_cleaner.state.floatbank4_a_air  \\\n",
       "0                                 14.016835   \n",
       "1                                 13.992281   \n",
       "2                                 14.015015   \n",
       "3                                 14.036510   \n",
       "4                                 14.027298   \n",
       "\n",
       "   secondary_cleaner.state.floatbank4_a_level  \\\n",
       "0                                 -502.488007   \n",
       "1                                 -505.503262   \n",
       "2                                 -502.520901   \n",
       "3                                 -500.857308   \n",
       "4                                 -499.838632   \n",
       "\n",
       "   secondary_cleaner.state.floatbank4_b_air  \\\n",
       "0                                 12.099931   \n",
       "1                                 11.950531   \n",
       "2                                 11.912783   \n",
       "3                                 11.999550   \n",
       "4                                 11.953070   \n",
       "\n",
       "   secondary_cleaner.state.floatbank4_b_level  \\\n",
       "0                                 -504.715942   \n",
       "1                                 -501.331529   \n",
       "2                                 -501.133383   \n",
       "3                                 -501.193686   \n",
       "4                                 -501.053894   \n",
       "\n",
       "   secondary_cleaner.state.floatbank5_a_air  \\\n",
       "0                                  9.925633   \n",
       "1                                 10.039245   \n",
       "2                                 10.070913   \n",
       "3                                  9.970366   \n",
       "4                                  9.925709   \n",
       "\n",
       "   secondary_cleaner.state.floatbank5_a_level  \\\n",
       "0                                 -498.310211   \n",
       "1                                 -500.169983   \n",
       "2                                 -500.129135   \n",
       "3                                 -499.201640   \n",
       "4                                 -501.686727   \n",
       "\n",
       "   secondary_cleaner.state.floatbank5_b_air  \\\n",
       "0                                  8.079666   \n",
       "1                                  7.984757   \n",
       "2                                  8.013877   \n",
       "3                                  7.977324   \n",
       "4                                  7.894242   \n",
       "\n",
       "   secondary_cleaner.state.floatbank5_b_level  \\\n",
       "0                                 -500.470978   \n",
       "1                                 -500.582168   \n",
       "2                                 -500.517572   \n",
       "3                                 -500.255908   \n",
       "4                                 -500.356035   \n",
       "\n",
       "   secondary_cleaner.state.floatbank6_a_air  \\\n",
       "0                                 14.151341   \n",
       "1                                 13.998353   \n",
       "2                                 14.028663   \n",
       "3                                 14.005551   \n",
       "4                                 13.996647   \n",
       "\n",
       "   secondary_cleaner.state.floatbank6_a_level  \n",
       "0                                 -605.841980  \n",
       "1                                 -599.787184  \n",
       "2                                 -601.427363  \n",
       "3                                 -599.996129  \n",
       "4                                 -601.496691  "
      ]
     },
     "execution_count": 3,
     "metadata": {},
     "output_type": "execute_result"
    }
   ],
   "source": [
    "df_train.head()"
   ]
  },
  {
   "cell_type": "code",
   "execution_count": 4,
   "metadata": {},
   "outputs": [
    {
     "data": {
      "text/html": [
       "<div>\n",
       "<style scoped>\n",
       "    .dataframe tbody tr th:only-of-type {\n",
       "        vertical-align: middle;\n",
       "    }\n",
       "\n",
       "    .dataframe tbody tr th {\n",
       "        vertical-align: top;\n",
       "    }\n",
       "\n",
       "    .dataframe thead th {\n",
       "        text-align: right;\n",
       "    }\n",
       "</style>\n",
       "<table border=\"1\" class=\"dataframe\">\n",
       "  <thead>\n",
       "    <tr style=\"text-align: right;\">\n",
       "      <th></th>\n",
       "      <th>date</th>\n",
       "      <th>primary_cleaner.input.sulfate</th>\n",
       "      <th>primary_cleaner.input.depressant</th>\n",
       "      <th>primary_cleaner.input.feed_size</th>\n",
       "      <th>primary_cleaner.input.xanthate</th>\n",
       "      <th>primary_cleaner.state.floatbank8_a_air</th>\n",
       "      <th>primary_cleaner.state.floatbank8_a_level</th>\n",
       "      <th>primary_cleaner.state.floatbank8_b_air</th>\n",
       "      <th>primary_cleaner.state.floatbank8_b_level</th>\n",
       "      <th>primary_cleaner.state.floatbank8_c_air</th>\n",
       "      <th>primary_cleaner.state.floatbank8_c_level</th>\n",
       "      <th>primary_cleaner.state.floatbank8_d_air</th>\n",
       "      <th>primary_cleaner.state.floatbank8_d_level</th>\n",
       "      <th>rougher.input.feed_ag</th>\n",
       "      <th>rougher.input.feed_pb</th>\n",
       "      <th>rougher.input.feed_rate</th>\n",
       "      <th>rougher.input.feed_size</th>\n",
       "      <th>rougher.input.feed_sol</th>\n",
       "      <th>rougher.input.feed_au</th>\n",
       "      <th>rougher.input.floatbank10_sulfate</th>\n",
       "      <th>rougher.input.floatbank10_xanthate</th>\n",
       "      <th>rougher.input.floatbank11_sulfate</th>\n",
       "      <th>rougher.input.floatbank11_xanthate</th>\n",
       "      <th>rougher.state.floatbank10_a_air</th>\n",
       "      <th>rougher.state.floatbank10_a_level</th>\n",
       "      <th>rougher.state.floatbank10_b_air</th>\n",
       "      <th>rougher.state.floatbank10_b_level</th>\n",
       "      <th>rougher.state.floatbank10_c_air</th>\n",
       "      <th>rougher.state.floatbank10_c_level</th>\n",
       "      <th>rougher.state.floatbank10_d_air</th>\n",
       "      <th>rougher.state.floatbank10_d_level</th>\n",
       "      <th>rougher.state.floatbank10_e_air</th>\n",
       "      <th>rougher.state.floatbank10_e_level</th>\n",
       "      <th>rougher.state.floatbank10_f_air</th>\n",
       "      <th>rougher.state.floatbank10_f_level</th>\n",
       "      <th>secondary_cleaner.state.floatbank2_a_air</th>\n",
       "      <th>secondary_cleaner.state.floatbank2_a_level</th>\n",
       "      <th>secondary_cleaner.state.floatbank2_b_air</th>\n",
       "      <th>secondary_cleaner.state.floatbank2_b_level</th>\n",
       "      <th>secondary_cleaner.state.floatbank3_a_air</th>\n",
       "      <th>secondary_cleaner.state.floatbank3_a_level</th>\n",
       "      <th>secondary_cleaner.state.floatbank3_b_air</th>\n",
       "      <th>secondary_cleaner.state.floatbank3_b_level</th>\n",
       "      <th>secondary_cleaner.state.floatbank4_a_air</th>\n",
       "      <th>secondary_cleaner.state.floatbank4_a_level</th>\n",
       "      <th>secondary_cleaner.state.floatbank4_b_air</th>\n",
       "      <th>secondary_cleaner.state.floatbank4_b_level</th>\n",
       "      <th>secondary_cleaner.state.floatbank5_a_air</th>\n",
       "      <th>secondary_cleaner.state.floatbank5_a_level</th>\n",
       "      <th>secondary_cleaner.state.floatbank5_b_air</th>\n",
       "      <th>secondary_cleaner.state.floatbank5_b_level</th>\n",
       "      <th>secondary_cleaner.state.floatbank6_a_air</th>\n",
       "      <th>secondary_cleaner.state.floatbank6_a_level</th>\n",
       "    </tr>\n",
       "  </thead>\n",
       "  <tbody>\n",
       "    <tr>\n",
       "      <th>0</th>\n",
       "      <td>2016-09-01 00:59:59</td>\n",
       "      <td>210.800909</td>\n",
       "      <td>14.993118</td>\n",
       "      <td>8.080000</td>\n",
       "      <td>1.005021</td>\n",
       "      <td>1398.981301</td>\n",
       "      <td>-500.225577</td>\n",
       "      <td>1399.144926</td>\n",
       "      <td>-499.919735</td>\n",
       "      <td>1400.102998</td>\n",
       "      <td>-500.704369</td>\n",
       "      <td>1399.001695</td>\n",
       "      <td>-499.485144</td>\n",
       "      <td>13.128569</td>\n",
       "      <td>5.636710</td>\n",
       "      <td>489.793655</td>\n",
       "      <td>62.710452</td>\n",
       "      <td>42.022440</td>\n",
       "      <td>12.084103</td>\n",
       "      <td>16.922877</td>\n",
       "      <td>6.153479</td>\n",
       "      <td>16.867518</td>\n",
       "      <td>6.150709</td>\n",
       "      <td>1001.849317</td>\n",
       "      <td>-350.301265</td>\n",
       "      <td>1249.738612</td>\n",
       "      <td>-399.107531</td>\n",
       "      <td>1249.750520</td>\n",
       "      <td>-399.396730</td>\n",
       "      <td>1198.287855</td>\n",
       "      <td>-399.488594</td>\n",
       "      <td>999.472250</td>\n",
       "      <td>-399.530962</td>\n",
       "      <td>949.566189</td>\n",
       "      <td>-398.180807</td>\n",
       "      <td>24.938200</td>\n",
       "      <td>-500.490963</td>\n",
       "      <td>14.947607</td>\n",
       "      <td>-500.013837</td>\n",
       "      <td>20.018166</td>\n",
       "      <td>-450.395995</td>\n",
       "      <td>13.987058</td>\n",
       "      <td>-449.831513</td>\n",
       "      <td>12.023554</td>\n",
       "      <td>-497.795834</td>\n",
       "      <td>8.016656</td>\n",
       "      <td>-501.289139</td>\n",
       "      <td>7.946562</td>\n",
       "      <td>-432.317850</td>\n",
       "      <td>4.872511</td>\n",
       "      <td>-500.037437</td>\n",
       "      <td>26.705889</td>\n",
       "      <td>-499.709414</td>\n",
       "    </tr>\n",
       "    <tr>\n",
       "      <th>1</th>\n",
       "      <td>2016-09-01 01:59:59</td>\n",
       "      <td>215.392455</td>\n",
       "      <td>14.987471</td>\n",
       "      <td>8.080000</td>\n",
       "      <td>0.990469</td>\n",
       "      <td>1398.777912</td>\n",
       "      <td>-500.057435</td>\n",
       "      <td>1398.055362</td>\n",
       "      <td>-499.778182</td>\n",
       "      <td>1396.151033</td>\n",
       "      <td>-499.240168</td>\n",
       "      <td>1399.508091</td>\n",
       "      <td>-500.416324</td>\n",
       "      <td>13.036280</td>\n",
       "      <td>5.526065</td>\n",
       "      <td>490.104534</td>\n",
       "      <td>61.961163</td>\n",
       "      <td>41.187903</td>\n",
       "      <td>11.918977</td>\n",
       "      <td>17.002532</td>\n",
       "      <td>5.999043</td>\n",
       "      <td>16.996063</td>\n",
       "      <td>6.002315</td>\n",
       "      <td>998.690785</td>\n",
       "      <td>-350.425704</td>\n",
       "      <td>1248.395457</td>\n",
       "      <td>-399.946025</td>\n",
       "      <td>1249.514451</td>\n",
       "      <td>-399.630810</td>\n",
       "      <td>1200.506459</td>\n",
       "      <td>-399.942434</td>\n",
       "      <td>1000.002114</td>\n",
       "      <td>-399.491528</td>\n",
       "      <td>950.200009</td>\n",
       "      <td>-405.787514</td>\n",
       "      <td>24.923466</td>\n",
       "      <td>-499.813963</td>\n",
       "      <td>14.930873</td>\n",
       "      <td>-500.764452</td>\n",
       "      <td>19.988503</td>\n",
       "      <td>-450.114024</td>\n",
       "      <td>14.092981</td>\n",
       "      <td>-450.059163</td>\n",
       "      <td>12.058140</td>\n",
       "      <td>-498.695773</td>\n",
       "      <td>8.130979</td>\n",
       "      <td>-499.634209</td>\n",
       "      <td>7.958270</td>\n",
       "      <td>-525.839648</td>\n",
       "      <td>4.878850</td>\n",
       "      <td>-500.162375</td>\n",
       "      <td>25.019940</td>\n",
       "      <td>-499.819438</td>\n",
       "    </tr>\n",
       "    <tr>\n",
       "      <th>2</th>\n",
       "      <td>2016-09-01 02:59:59</td>\n",
       "      <td>215.259946</td>\n",
       "      <td>12.884934</td>\n",
       "      <td>7.786667</td>\n",
       "      <td>0.996043</td>\n",
       "      <td>1398.493666</td>\n",
       "      <td>-500.868360</td>\n",
       "      <td>1398.860436</td>\n",
       "      <td>-499.764529</td>\n",
       "      <td>1398.075709</td>\n",
       "      <td>-502.151509</td>\n",
       "      <td>1399.497088</td>\n",
       "      <td>-499.715479</td>\n",
       "      <td>13.138412</td>\n",
       "      <td>5.426561</td>\n",
       "      <td>489.617969</td>\n",
       "      <td>66.903807</td>\n",
       "      <td>42.546294</td>\n",
       "      <td>12.091332</td>\n",
       "      <td>16.992520</td>\n",
       "      <td>5.850632</td>\n",
       "      <td>16.982096</td>\n",
       "      <td>5.853594</td>\n",
       "      <td>998.516720</td>\n",
       "      <td>-349.783538</td>\n",
       "      <td>1247.440748</td>\n",
       "      <td>-400.264330</td>\n",
       "      <td>1248.207204</td>\n",
       "      <td>-401.074405</td>\n",
       "      <td>1199.770026</td>\n",
       "      <td>-400.790582</td>\n",
       "      <td>999.925519</td>\n",
       "      <td>-399.236999</td>\n",
       "      <td>950.320481</td>\n",
       "      <td>-400.864340</td>\n",
       "      <td>24.908732</td>\n",
       "      <td>-500.304035</td>\n",
       "      <td>14.996511</td>\n",
       "      <td>-500.993821</td>\n",
       "      <td>20.039689</td>\n",
       "      <td>-450.263164</td>\n",
       "      <td>14.077881</td>\n",
       "      <td>-449.660997</td>\n",
       "      <td>11.962366</td>\n",
       "      <td>-498.767484</td>\n",
       "      <td>8.096893</td>\n",
       "      <td>-500.827423</td>\n",
       "      <td>8.071056</td>\n",
       "      <td>-500.801673</td>\n",
       "      <td>4.905125</td>\n",
       "      <td>-499.828510</td>\n",
       "      <td>24.994862</td>\n",
       "      <td>-500.622559</td>\n",
       "    </tr>\n",
       "    <tr>\n",
       "      <th>3</th>\n",
       "      <td>2016-09-01 03:59:59</td>\n",
       "      <td>215.336236</td>\n",
       "      <td>12.006805</td>\n",
       "      <td>7.640000</td>\n",
       "      <td>0.863514</td>\n",
       "      <td>1399.618111</td>\n",
       "      <td>-498.863574</td>\n",
       "      <td>1397.440120</td>\n",
       "      <td>-499.211024</td>\n",
       "      <td>1400.129303</td>\n",
       "      <td>-498.355873</td>\n",
       "      <td>1401.065165</td>\n",
       "      <td>-501.038738</td>\n",
       "      <td>12.400507</td>\n",
       "      <td>5.114758</td>\n",
       "      <td>476.618130</td>\n",
       "      <td>59.865919</td>\n",
       "      <td>41.060195</td>\n",
       "      <td>12.181597</td>\n",
       "      <td>16.532144</td>\n",
       "      <td>5.801935</td>\n",
       "      <td>16.515277</td>\n",
       "      <td>5.803657</td>\n",
       "      <td>1000.276604</td>\n",
       "      <td>-350.172597</td>\n",
       "      <td>1251.322675</td>\n",
       "      <td>-398.655289</td>\n",
       "      <td>1250.493702</td>\n",
       "      <td>-399.746728</td>\n",
       "      <td>1199.398691</td>\n",
       "      <td>-397.503052</td>\n",
       "      <td>1001.930679</td>\n",
       "      <td>-400.437573</td>\n",
       "      <td>950.735324</td>\n",
       "      <td>-399.802986</td>\n",
       "      <td>24.893998</td>\n",
       "      <td>-499.382374</td>\n",
       "      <td>14.916674</td>\n",
       "      <td>-499.862299</td>\n",
       "      <td>20.031100</td>\n",
       "      <td>-449.372570</td>\n",
       "      <td>14.013968</td>\n",
       "      <td>-449.526900</td>\n",
       "      <td>12.033091</td>\n",
       "      <td>-498.350935</td>\n",
       "      <td>8.074946</td>\n",
       "      <td>-499.474407</td>\n",
       "      <td>7.897085</td>\n",
       "      <td>-500.868509</td>\n",
       "      <td>4.931400</td>\n",
       "      <td>-499.963623</td>\n",
       "      <td>24.948919</td>\n",
       "      <td>-498.709987</td>\n",
       "    </tr>\n",
       "    <tr>\n",
       "      <th>4</th>\n",
       "      <td>2016-09-01 04:59:59</td>\n",
       "      <td>199.099327</td>\n",
       "      <td>10.682530</td>\n",
       "      <td>7.530000</td>\n",
       "      <td>0.805575</td>\n",
       "      <td>1401.268123</td>\n",
       "      <td>-500.808305</td>\n",
       "      <td>1398.128818</td>\n",
       "      <td>-499.504543</td>\n",
       "      <td>1402.172226</td>\n",
       "      <td>-500.810606</td>\n",
       "      <td>1399.480508</td>\n",
       "      <td>-499.374053</td>\n",
       "      <td>11.327427</td>\n",
       "      <td>4.767383</td>\n",
       "      <td>488.248117</td>\n",
       "      <td>63.315324</td>\n",
       "      <td>41.269161</td>\n",
       "      <td>11.290425</td>\n",
       "      <td>13.607257</td>\n",
       "      <td>5.738081</td>\n",
       "      <td>13.650053</td>\n",
       "      <td>5.739634</td>\n",
       "      <td>996.541302</td>\n",
       "      <td>-350.562517</td>\n",
       "      <td>1304.658848</td>\n",
       "      <td>-399.511519</td>\n",
       "      <td>1306.455515</td>\n",
       "      <td>-399.050685</td>\n",
       "      <td>1248.699349</td>\n",
       "      <td>-400.876894</td>\n",
       "      <td>1058.839106</td>\n",
       "      <td>-398.988239</td>\n",
       "      <td>949.645313</td>\n",
       "      <td>-399.277632</td>\n",
       "      <td>24.886905</td>\n",
       "      <td>-499.357375</td>\n",
       "      <td>14.979233</td>\n",
       "      <td>-500.186804</td>\n",
       "      <td>19.962364</td>\n",
       "      <td>-450.638828</td>\n",
       "      <td>14.009245</td>\n",
       "      <td>-450.022259</td>\n",
       "      <td>12.025367</td>\n",
       "      <td>-500.786497</td>\n",
       "      <td>8.054678</td>\n",
       "      <td>-500.397500</td>\n",
       "      <td>8.107890</td>\n",
       "      <td>-509.526725</td>\n",
       "      <td>4.957674</td>\n",
       "      <td>-500.360026</td>\n",
       "      <td>25.003331</td>\n",
       "      <td>-500.856333</td>\n",
       "    </tr>\n",
       "  </tbody>\n",
       "</table>\n",
       "</div>"
      ],
      "text/plain": [
       "                  date  primary_cleaner.input.sulfate  \\\n",
       "0  2016-09-01 00:59:59                     210.800909   \n",
       "1  2016-09-01 01:59:59                     215.392455   \n",
       "2  2016-09-01 02:59:59                     215.259946   \n",
       "3  2016-09-01 03:59:59                     215.336236   \n",
       "4  2016-09-01 04:59:59                     199.099327   \n",
       "\n",
       "   primary_cleaner.input.depressant  primary_cleaner.input.feed_size  \\\n",
       "0                         14.993118                         8.080000   \n",
       "1                         14.987471                         8.080000   \n",
       "2                         12.884934                         7.786667   \n",
       "3                         12.006805                         7.640000   \n",
       "4                         10.682530                         7.530000   \n",
       "\n",
       "   primary_cleaner.input.xanthate  primary_cleaner.state.floatbank8_a_air  \\\n",
       "0                        1.005021                             1398.981301   \n",
       "1                        0.990469                             1398.777912   \n",
       "2                        0.996043                             1398.493666   \n",
       "3                        0.863514                             1399.618111   \n",
       "4                        0.805575                             1401.268123   \n",
       "\n",
       "   primary_cleaner.state.floatbank8_a_level  \\\n",
       "0                               -500.225577   \n",
       "1                               -500.057435   \n",
       "2                               -500.868360   \n",
       "3                               -498.863574   \n",
       "4                               -500.808305   \n",
       "\n",
       "   primary_cleaner.state.floatbank8_b_air  \\\n",
       "0                             1399.144926   \n",
       "1                             1398.055362   \n",
       "2                             1398.860436   \n",
       "3                             1397.440120   \n",
       "4                             1398.128818   \n",
       "\n",
       "   primary_cleaner.state.floatbank8_b_level  \\\n",
       "0                               -499.919735   \n",
       "1                               -499.778182   \n",
       "2                               -499.764529   \n",
       "3                               -499.211024   \n",
       "4                               -499.504543   \n",
       "\n",
       "   primary_cleaner.state.floatbank8_c_air  \\\n",
       "0                             1400.102998   \n",
       "1                             1396.151033   \n",
       "2                             1398.075709   \n",
       "3                             1400.129303   \n",
       "4                             1402.172226   \n",
       "\n",
       "   primary_cleaner.state.floatbank8_c_level  \\\n",
       "0                               -500.704369   \n",
       "1                               -499.240168   \n",
       "2                               -502.151509   \n",
       "3                               -498.355873   \n",
       "4                               -500.810606   \n",
       "\n",
       "   primary_cleaner.state.floatbank8_d_air  \\\n",
       "0                             1399.001695   \n",
       "1                             1399.508091   \n",
       "2                             1399.497088   \n",
       "3                             1401.065165   \n",
       "4                             1399.480508   \n",
       "\n",
       "   primary_cleaner.state.floatbank8_d_level  rougher.input.feed_ag  \\\n",
       "0                               -499.485144              13.128569   \n",
       "1                               -500.416324              13.036280   \n",
       "2                               -499.715479              13.138412   \n",
       "3                               -501.038738              12.400507   \n",
       "4                               -499.374053              11.327427   \n",
       "\n",
       "   rougher.input.feed_pb  rougher.input.feed_rate  rougher.input.feed_size  \\\n",
       "0               5.636710               489.793655                62.710452   \n",
       "1               5.526065               490.104534                61.961163   \n",
       "2               5.426561               489.617969                66.903807   \n",
       "3               5.114758               476.618130                59.865919   \n",
       "4               4.767383               488.248117                63.315324   \n",
       "\n",
       "   rougher.input.feed_sol  rougher.input.feed_au  \\\n",
       "0               42.022440              12.084103   \n",
       "1               41.187903              11.918977   \n",
       "2               42.546294              12.091332   \n",
       "3               41.060195              12.181597   \n",
       "4               41.269161              11.290425   \n",
       "\n",
       "   rougher.input.floatbank10_sulfate  rougher.input.floatbank10_xanthate  \\\n",
       "0                          16.922877                            6.153479   \n",
       "1                          17.002532                            5.999043   \n",
       "2                          16.992520                            5.850632   \n",
       "3                          16.532144                            5.801935   \n",
       "4                          13.607257                            5.738081   \n",
       "\n",
       "   rougher.input.floatbank11_sulfate  rougher.input.floatbank11_xanthate  \\\n",
       "0                          16.867518                            6.150709   \n",
       "1                          16.996063                            6.002315   \n",
       "2                          16.982096                            5.853594   \n",
       "3                          16.515277                            5.803657   \n",
       "4                          13.650053                            5.739634   \n",
       "\n",
       "   rougher.state.floatbank10_a_air  rougher.state.floatbank10_a_level  \\\n",
       "0                      1001.849317                        -350.301265   \n",
       "1                       998.690785                        -350.425704   \n",
       "2                       998.516720                        -349.783538   \n",
       "3                      1000.276604                        -350.172597   \n",
       "4                       996.541302                        -350.562517   \n",
       "\n",
       "   rougher.state.floatbank10_b_air  rougher.state.floatbank10_b_level  \\\n",
       "0                      1249.738612                        -399.107531   \n",
       "1                      1248.395457                        -399.946025   \n",
       "2                      1247.440748                        -400.264330   \n",
       "3                      1251.322675                        -398.655289   \n",
       "4                      1304.658848                        -399.511519   \n",
       "\n",
       "   rougher.state.floatbank10_c_air  rougher.state.floatbank10_c_level  \\\n",
       "0                      1249.750520                        -399.396730   \n",
       "1                      1249.514451                        -399.630810   \n",
       "2                      1248.207204                        -401.074405   \n",
       "3                      1250.493702                        -399.746728   \n",
       "4                      1306.455515                        -399.050685   \n",
       "\n",
       "   rougher.state.floatbank10_d_air  rougher.state.floatbank10_d_level  \\\n",
       "0                      1198.287855                        -399.488594   \n",
       "1                      1200.506459                        -399.942434   \n",
       "2                      1199.770026                        -400.790582   \n",
       "3                      1199.398691                        -397.503052   \n",
       "4                      1248.699349                        -400.876894   \n",
       "\n",
       "   rougher.state.floatbank10_e_air  rougher.state.floatbank10_e_level  \\\n",
       "0                       999.472250                        -399.530962   \n",
       "1                      1000.002114                        -399.491528   \n",
       "2                       999.925519                        -399.236999   \n",
       "3                      1001.930679                        -400.437573   \n",
       "4                      1058.839106                        -398.988239   \n",
       "\n",
       "   rougher.state.floatbank10_f_air  rougher.state.floatbank10_f_level  \\\n",
       "0                       949.566189                        -398.180807   \n",
       "1                       950.200009                        -405.787514   \n",
       "2                       950.320481                        -400.864340   \n",
       "3                       950.735324                        -399.802986   \n",
       "4                       949.645313                        -399.277632   \n",
       "\n",
       "   secondary_cleaner.state.floatbank2_a_air  \\\n",
       "0                                 24.938200   \n",
       "1                                 24.923466   \n",
       "2                                 24.908732   \n",
       "3                                 24.893998   \n",
       "4                                 24.886905   \n",
       "\n",
       "   secondary_cleaner.state.floatbank2_a_level  \\\n",
       "0                                 -500.490963   \n",
       "1                                 -499.813963   \n",
       "2                                 -500.304035   \n",
       "3                                 -499.382374   \n",
       "4                                 -499.357375   \n",
       "\n",
       "   secondary_cleaner.state.floatbank2_b_air  \\\n",
       "0                                 14.947607   \n",
       "1                                 14.930873   \n",
       "2                                 14.996511   \n",
       "3                                 14.916674   \n",
       "4                                 14.979233   \n",
       "\n",
       "   secondary_cleaner.state.floatbank2_b_level  \\\n",
       "0                                 -500.013837   \n",
       "1                                 -500.764452   \n",
       "2                                 -500.993821   \n",
       "3                                 -499.862299   \n",
       "4                                 -500.186804   \n",
       "\n",
       "   secondary_cleaner.state.floatbank3_a_air  \\\n",
       "0                                 20.018166   \n",
       "1                                 19.988503   \n",
       "2                                 20.039689   \n",
       "3                                 20.031100   \n",
       "4                                 19.962364   \n",
       "\n",
       "   secondary_cleaner.state.floatbank3_a_level  \\\n",
       "0                                 -450.395995   \n",
       "1                                 -450.114024   \n",
       "2                                 -450.263164   \n",
       "3                                 -449.372570   \n",
       "4                                 -450.638828   \n",
       "\n",
       "   secondary_cleaner.state.floatbank3_b_air  \\\n",
       "0                                 13.987058   \n",
       "1                                 14.092981   \n",
       "2                                 14.077881   \n",
       "3                                 14.013968   \n",
       "4                                 14.009245   \n",
       "\n",
       "   secondary_cleaner.state.floatbank3_b_level  \\\n",
       "0                                 -449.831513   \n",
       "1                                 -450.059163   \n",
       "2                                 -449.660997   \n",
       "3                                 -449.526900   \n",
       "4                                 -450.022259   \n",
       "\n",
       "   secondary_cleaner.state.floatbank4_a_air  \\\n",
       "0                                 12.023554   \n",
       "1                                 12.058140   \n",
       "2                                 11.962366   \n",
       "3                                 12.033091   \n",
       "4                                 12.025367   \n",
       "\n",
       "   secondary_cleaner.state.floatbank4_a_level  \\\n",
       "0                                 -497.795834   \n",
       "1                                 -498.695773   \n",
       "2                                 -498.767484   \n",
       "3                                 -498.350935   \n",
       "4                                 -500.786497   \n",
       "\n",
       "   secondary_cleaner.state.floatbank4_b_air  \\\n",
       "0                                  8.016656   \n",
       "1                                  8.130979   \n",
       "2                                  8.096893   \n",
       "3                                  8.074946   \n",
       "4                                  8.054678   \n",
       "\n",
       "   secondary_cleaner.state.floatbank4_b_level  \\\n",
       "0                                 -501.289139   \n",
       "1                                 -499.634209   \n",
       "2                                 -500.827423   \n",
       "3                                 -499.474407   \n",
       "4                                 -500.397500   \n",
       "\n",
       "   secondary_cleaner.state.floatbank5_a_air  \\\n",
       "0                                  7.946562   \n",
       "1                                  7.958270   \n",
       "2                                  8.071056   \n",
       "3                                  7.897085   \n",
       "4                                  8.107890   \n",
       "\n",
       "   secondary_cleaner.state.floatbank5_a_level  \\\n",
       "0                                 -432.317850   \n",
       "1                                 -525.839648   \n",
       "2                                 -500.801673   \n",
       "3                                 -500.868509   \n",
       "4                                 -509.526725   \n",
       "\n",
       "   secondary_cleaner.state.floatbank5_b_air  \\\n",
       "0                                  4.872511   \n",
       "1                                  4.878850   \n",
       "2                                  4.905125   \n",
       "3                                  4.931400   \n",
       "4                                  4.957674   \n",
       "\n",
       "   secondary_cleaner.state.floatbank5_b_level  \\\n",
       "0                                 -500.037437   \n",
       "1                                 -500.162375   \n",
       "2                                 -499.828510   \n",
       "3                                 -499.963623   \n",
       "4                                 -500.360026   \n",
       "\n",
       "   secondary_cleaner.state.floatbank6_a_air  \\\n",
       "0                                 26.705889   \n",
       "1                                 25.019940   \n",
       "2                                 24.994862   \n",
       "3                                 24.948919   \n",
       "4                                 25.003331   \n",
       "\n",
       "   secondary_cleaner.state.floatbank6_a_level  \n",
       "0                                 -499.709414  \n",
       "1                                 -499.819438  \n",
       "2                                 -500.622559  \n",
       "3                                 -498.709987  \n",
       "4                                 -500.856333  "
      ]
     },
     "execution_count": 4,
     "metadata": {},
     "output_type": "execute_result"
    }
   ],
   "source": [
    "df_test.head()"
   ]
  },
  {
   "cell_type": "markdown",
   "metadata": {},
   "source": [
    "Notes for preprocessing:\n",
    "- All features are numerical, except for the `date` variable."
   ]
  },
  {
   "cell_type": "code",
   "execution_count": 5,
   "metadata": {},
   "outputs": [
    {
     "name": "stdout",
     "output_type": "stream",
     "text": [
      "<class 'pandas.core.frame.DataFrame'>\n",
      "RangeIndex: 16860 entries, 0 to 16859\n",
      "Data columns (total 87 columns):\n",
      " #   Column                                              Non-Null Count  Dtype  \n",
      "---  ------                                              --------------  -----  \n",
      " 0   date                                                16860 non-null  object \n",
      " 1   final.output.concentrate_ag                         16788 non-null  float64\n",
      " 2   final.output.concentrate_pb                         16788 non-null  float64\n",
      " 3   final.output.concentrate_sol                        16490 non-null  float64\n",
      " 4   final.output.concentrate_au                         16789 non-null  float64\n",
      " 5   final.output.recovery                               15339 non-null  float64\n",
      " 6   final.output.tail_ag                                16794 non-null  float64\n",
      " 7   final.output.tail_pb                                16677 non-null  float64\n",
      " 8   final.output.tail_sol                               16715 non-null  float64\n",
      " 9   final.output.tail_au                                16794 non-null  float64\n",
      " 10  primary_cleaner.input.sulfate                       15553 non-null  float64\n",
      " 11  primary_cleaner.input.depressant                    15598 non-null  float64\n",
      " 12  primary_cleaner.input.feed_size                     16860 non-null  float64\n",
      " 13  primary_cleaner.input.xanthate                      15875 non-null  float64\n",
      " 14  primary_cleaner.output.concentrate_ag               16778 non-null  float64\n",
      " 15  primary_cleaner.output.concentrate_pb               16502 non-null  float64\n",
      " 16  primary_cleaner.output.concentrate_sol              16224 non-null  float64\n",
      " 17  primary_cleaner.output.concentrate_au               16778 non-null  float64\n",
      " 18  primary_cleaner.output.tail_ag                      16777 non-null  float64\n",
      " 19  primary_cleaner.output.tail_pb                      16761 non-null  float64\n",
      " 20  primary_cleaner.output.tail_sol                     16579 non-null  float64\n",
      " 21  primary_cleaner.output.tail_au                      16777 non-null  float64\n",
      " 22  primary_cleaner.state.floatbank8_a_air              16820 non-null  float64\n",
      " 23  primary_cleaner.state.floatbank8_a_level            16827 non-null  float64\n",
      " 24  primary_cleaner.state.floatbank8_b_air              16820 non-null  float64\n",
      " 25  primary_cleaner.state.floatbank8_b_level            16833 non-null  float64\n",
      " 26  primary_cleaner.state.floatbank8_c_air              16822 non-null  float64\n",
      " 27  primary_cleaner.state.floatbank8_c_level            16833 non-null  float64\n",
      " 28  primary_cleaner.state.floatbank8_d_air              16821 non-null  float64\n",
      " 29  primary_cleaner.state.floatbank8_d_level            16833 non-null  float64\n",
      " 30  rougher.calculation.sulfate_to_au_concentrate       16833 non-null  float64\n",
      " 31  rougher.calculation.floatbank10_sulfate_to_au_feed  16833 non-null  float64\n",
      " 32  rougher.calculation.floatbank11_sulfate_to_au_feed  16833 non-null  float64\n",
      " 33  rougher.calculation.au_pb_ratio                     15618 non-null  float64\n",
      " 34  rougher.input.feed_ag                               16778 non-null  float64\n",
      " 35  rougher.input.feed_pb                               16632 non-null  float64\n",
      " 36  rougher.input.feed_rate                             16347 non-null  float64\n",
      " 37  rougher.input.feed_size                             16443 non-null  float64\n",
      " 38  rougher.input.feed_sol                              16568 non-null  float64\n",
      " 39  rougher.input.feed_au                               16777 non-null  float64\n",
      " 40  rougher.input.floatbank10_sulfate                   15816 non-null  float64\n",
      " 41  rougher.input.floatbank10_xanthate                  16514 non-null  float64\n",
      " 42  rougher.input.floatbank11_sulfate                   16237 non-null  float64\n",
      " 43  rougher.input.floatbank11_xanthate                  14956 non-null  float64\n",
      " 44  rougher.output.concentrate_ag                       16778 non-null  float64\n",
      " 45  rougher.output.concentrate_pb                       16778 non-null  float64\n",
      " 46  rougher.output.concentrate_sol                      16698 non-null  float64\n",
      " 47  rougher.output.concentrate_au                       16778 non-null  float64\n",
      " 48  rougher.output.recovery                             14287 non-null  float64\n",
      " 49  rougher.output.tail_ag                              14610 non-null  float64\n",
      " 50  rougher.output.tail_pb                              16778 non-null  float64\n",
      " 51  rougher.output.tail_sol                             14611 non-null  float64\n",
      " 52  rougher.output.tail_au                              14611 non-null  float64\n",
      " 53  rougher.state.floatbank10_a_air                     16807 non-null  float64\n",
      " 54  rougher.state.floatbank10_a_level                   16807 non-null  float64\n",
      " 55  rougher.state.floatbank10_b_air                     16807 non-null  float64\n",
      " 56  rougher.state.floatbank10_b_level                   16807 non-null  float64\n",
      " 57  rougher.state.floatbank10_c_air                     16807 non-null  float64\n",
      " 58  rougher.state.floatbank10_c_level                   16814 non-null  float64\n",
      " 59  rougher.state.floatbank10_d_air                     16802 non-null  float64\n",
      " 60  rougher.state.floatbank10_d_level                   16809 non-null  float64\n",
      " 61  rougher.state.floatbank10_e_air                     16257 non-null  float64\n",
      " 62  rougher.state.floatbank10_e_level                   16809 non-null  float64\n",
      " 63  rougher.state.floatbank10_f_air                     16802 non-null  float64\n",
      " 64  rougher.state.floatbank10_f_level                   16802 non-null  float64\n",
      " 65  secondary_cleaner.output.tail_ag                    16776 non-null  float64\n",
      " 66  secondary_cleaner.output.tail_pb                    16764 non-null  float64\n",
      " 67  secondary_cleaner.output.tail_sol                   14874 non-null  float64\n",
      " 68  secondary_cleaner.output.tail_au                    16778 non-null  float64\n",
      " 69  secondary_cleaner.state.floatbank2_a_air            16497 non-null  float64\n",
      " 70  secondary_cleaner.state.floatbank2_a_level          16751 non-null  float64\n",
      " 71  secondary_cleaner.state.floatbank2_b_air            16705 non-null  float64\n",
      " 72  secondary_cleaner.state.floatbank2_b_level          16748 non-null  float64\n",
      " 73  secondary_cleaner.state.floatbank3_a_air            16763 non-null  float64\n",
      " 74  secondary_cleaner.state.floatbank3_a_level          16747 non-null  float64\n",
      " 75  secondary_cleaner.state.floatbank3_b_air            16752 non-null  float64\n",
      " 76  secondary_cleaner.state.floatbank3_b_level          16750 non-null  float64\n",
      " 77  secondary_cleaner.state.floatbank4_a_air            16731 non-null  float64\n",
      " 78  secondary_cleaner.state.floatbank4_a_level          16747 non-null  float64\n",
      " 79  secondary_cleaner.state.floatbank4_b_air            16768 non-null  float64\n",
      " 80  secondary_cleaner.state.floatbank4_b_level          16767 non-null  float64\n",
      " 81  secondary_cleaner.state.floatbank5_a_air            16775 non-null  float64\n",
      " 82  secondary_cleaner.state.floatbank5_a_level          16775 non-null  float64\n",
      " 83  secondary_cleaner.state.floatbank5_b_air            16775 non-null  float64\n",
      " 84  secondary_cleaner.state.floatbank5_b_level          16776 non-null  float64\n",
      " 85  secondary_cleaner.state.floatbank6_a_air            16757 non-null  float64\n",
      " 86  secondary_cleaner.state.floatbank6_a_level          16775 non-null  float64\n",
      "dtypes: float64(86), object(1)\n",
      "memory usage: 11.2+ MB\n"
     ]
    }
   ],
   "source": [
    "df_train.info()"
   ]
  },
  {
   "cell_type": "code",
   "execution_count": 6,
   "metadata": {},
   "outputs": [
    {
     "name": "stdout",
     "output_type": "stream",
     "text": [
      "<class 'pandas.core.frame.DataFrame'>\n",
      "RangeIndex: 5856 entries, 0 to 5855\n",
      "Data columns (total 53 columns):\n",
      " #   Column                                      Non-Null Count  Dtype  \n",
      "---  ------                                      --------------  -----  \n",
      " 0   date                                        5856 non-null   object \n",
      " 1   primary_cleaner.input.sulfate               5554 non-null   float64\n",
      " 2   primary_cleaner.input.depressant            5572 non-null   float64\n",
      " 3   primary_cleaner.input.feed_size             5856 non-null   float64\n",
      " 4   primary_cleaner.input.xanthate              5690 non-null   float64\n",
      " 5   primary_cleaner.state.floatbank8_a_air      5840 non-null   float64\n",
      " 6   primary_cleaner.state.floatbank8_a_level    5840 non-null   float64\n",
      " 7   primary_cleaner.state.floatbank8_b_air      5840 non-null   float64\n",
      " 8   primary_cleaner.state.floatbank8_b_level    5840 non-null   float64\n",
      " 9   primary_cleaner.state.floatbank8_c_air      5840 non-null   float64\n",
      " 10  primary_cleaner.state.floatbank8_c_level    5840 non-null   float64\n",
      " 11  primary_cleaner.state.floatbank8_d_air      5840 non-null   float64\n",
      " 12  primary_cleaner.state.floatbank8_d_level    5840 non-null   float64\n",
      " 13  rougher.input.feed_ag                       5840 non-null   float64\n",
      " 14  rougher.input.feed_pb                       5840 non-null   float64\n",
      " 15  rougher.input.feed_rate                     5816 non-null   float64\n",
      " 16  rougher.input.feed_size                     5834 non-null   float64\n",
      " 17  rougher.input.feed_sol                      5789 non-null   float64\n",
      " 18  rougher.input.feed_au                       5840 non-null   float64\n",
      " 19  rougher.input.floatbank10_sulfate           5599 non-null   float64\n",
      " 20  rougher.input.floatbank10_xanthate          5733 non-null   float64\n",
      " 21  rougher.input.floatbank11_sulfate           5801 non-null   float64\n",
      " 22  rougher.input.floatbank11_xanthate          5503 non-null   float64\n",
      " 23  rougher.state.floatbank10_a_air             5839 non-null   float64\n",
      " 24  rougher.state.floatbank10_a_level           5840 non-null   float64\n",
      " 25  rougher.state.floatbank10_b_air             5839 non-null   float64\n",
      " 26  rougher.state.floatbank10_b_level           5840 non-null   float64\n",
      " 27  rougher.state.floatbank10_c_air             5839 non-null   float64\n",
      " 28  rougher.state.floatbank10_c_level           5840 non-null   float64\n",
      " 29  rougher.state.floatbank10_d_air             5839 non-null   float64\n",
      " 30  rougher.state.floatbank10_d_level           5840 non-null   float64\n",
      " 31  rougher.state.floatbank10_e_air             5839 non-null   float64\n",
      " 32  rougher.state.floatbank10_e_level           5840 non-null   float64\n",
      " 33  rougher.state.floatbank10_f_air             5839 non-null   float64\n",
      " 34  rougher.state.floatbank10_f_level           5840 non-null   float64\n",
      " 35  secondary_cleaner.state.floatbank2_a_air    5836 non-null   float64\n",
      " 36  secondary_cleaner.state.floatbank2_a_level  5840 non-null   float64\n",
      " 37  secondary_cleaner.state.floatbank2_b_air    5833 non-null   float64\n",
      " 38  secondary_cleaner.state.floatbank2_b_level  5840 non-null   float64\n",
      " 39  secondary_cleaner.state.floatbank3_a_air    5822 non-null   float64\n",
      " 40  secondary_cleaner.state.floatbank3_a_level  5840 non-null   float64\n",
      " 41  secondary_cleaner.state.floatbank3_b_air    5840 non-null   float64\n",
      " 42  secondary_cleaner.state.floatbank3_b_level  5840 non-null   float64\n",
      " 43  secondary_cleaner.state.floatbank4_a_air    5840 non-null   float64\n",
      " 44  secondary_cleaner.state.floatbank4_a_level  5840 non-null   float64\n",
      " 45  secondary_cleaner.state.floatbank4_b_air    5840 non-null   float64\n",
      " 46  secondary_cleaner.state.floatbank4_b_level  5840 non-null   float64\n",
      " 47  secondary_cleaner.state.floatbank5_a_air    5840 non-null   float64\n",
      " 48  secondary_cleaner.state.floatbank5_a_level  5840 non-null   float64\n",
      " 49  secondary_cleaner.state.floatbank5_b_air    5840 non-null   float64\n",
      " 50  secondary_cleaner.state.floatbank5_b_level  5840 non-null   float64\n",
      " 51  secondary_cleaner.state.floatbank6_a_air    5840 non-null   float64\n",
      " 52  secondary_cleaner.state.floatbank6_a_level  5840 non-null   float64\n",
      "dtypes: float64(52), object(1)\n",
      "memory usage: 2.4+ MB\n"
     ]
    }
   ],
   "source": [
    "df_test.info()"
   ]
  },
  {
   "cell_type": "markdown",
   "metadata": {},
   "source": [
    "Notes for preprocessing:\n",
    "- There are 16860 observations in the train set and 5856 observations in the test set, so the test set is around 26% of the full dataset;\n",
    "- There are 87 features in the train set and only 53 features in the test set. Some parameters are not available in the test set because they were measured and/or calculated much later. We will analyze this point further in more detail;\n",
    "- There are 2 target variables: `rougher.output.recovery` and `final.output.recovery`;\n",
    "- Each feature data type is float except for the `date` column, it should be converted to datetime format;\n",
    "- There are quite a few missing values to fill."
   ]
  },
  {
   "cell_type": "markdown",
   "metadata": {},
   "source": [
    "## Recovery calculation check\n",
    "\n",
    "Let's use the following formula to check whether `rougher.output.recovery` was calculated correctly in the train set:\n",
    "\n",
    "Recovery = (Cx(F-T) / Fx(C-T)) x 100%\n",
    "\n",
    "where:\n",
    "\n",
    "- *C* — share of gold in the concentrate right after flotation (for finding the rougher concentrate recovery)\n",
    "- *F* — share of gold in the feed before flotation (for finding the rougher concentrate recovery)\n",
    "- *T* — share of gold in the rougher tails right after flotation (for finding the rougher concentrate recovery)"
   ]
  },
  {
   "cell_type": "markdown",
   "metadata": {},
   "source": [
    "<a href=\"https://www.codecogs.com/eqnedit.php?latex=Recovery&space;=&space;(Cx(F-T)&space;/&space;Fx(C-T))&space;x&space;100%\" target=\"_blank\"><img src=\"https://latex.codecogs.com/gif.latex?Recovery&space;=&space;(Cx(F-T)&space;/&space;Fx(C-T))&space;x&space;100%\" title=\"Recovery = (Cx(F-T) / Fx(C-T)) x 100%\" /></a>"
   ]
  },
  {
   "cell_type": "markdown",
   "metadata": {},
   "source": [
    "<a href=\"https://www.codecogs.com/eqnedit.php?latex=Recovery&space;=&space;\\frac{C\\cdot&space;(F&space;-&space;T)}{F\\cdot&space;(C&space;-&space;T)}\\cdot&space;100%\" target=\"_blank\"><img src=\"https://latex.codecogs.com/gif.latex?Recovery&space;=&space;\\frac{C\\cdot&space;(F&space;-&space;T)}{F\\cdot&space;(C&space;-&space;T)}\\cdot&space;100%\" title=\"Recovery = \\frac{C\\cdot (F - T)}{F\\cdot (C - T)}\\cdot 100%\" /></a>"
   ]
  },
  {
   "cell_type": "code",
   "execution_count": 7,
   "metadata": {},
   "outputs": [],
   "source": [
    "C = df_train['rougher.output.concentrate_au']\n",
    "F = df_train['rougher.input.feed_au']\n",
    "T = df_train['rougher.output.tail_au']\n",
    "\n",
    "df_train['recovery_calc'] = (100* ((C*(F-T)) / (F*(C-T)))).round(6)"
   ]
  },
  {
   "cell_type": "code",
   "execution_count": 8,
   "metadata": {},
   "outputs": [
    {
     "data": {
      "text/html": [
       "<div>\n",
       "<style scoped>\n",
       "    .dataframe tbody tr th:only-of-type {\n",
       "        vertical-align: middle;\n",
       "    }\n",
       "\n",
       "    .dataframe tbody tr th {\n",
       "        vertical-align: top;\n",
       "    }\n",
       "\n",
       "    .dataframe thead th {\n",
       "        text-align: right;\n",
       "    }\n",
       "</style>\n",
       "<table border=\"1\" class=\"dataframe\">\n",
       "  <thead>\n",
       "    <tr style=\"text-align: right;\">\n",
       "      <th></th>\n",
       "      <th>recovery_calc</th>\n",
       "      <th>rougher.output.recovery</th>\n",
       "    </tr>\n",
       "  </thead>\n",
       "  <tbody>\n",
       "    <tr>\n",
       "      <th>0</th>\n",
       "      <td>87.107763</td>\n",
       "      <td>87.107763</td>\n",
       "    </tr>\n",
       "    <tr>\n",
       "      <th>1</th>\n",
       "      <td>86.843261</td>\n",
       "      <td>86.843261</td>\n",
       "    </tr>\n",
       "    <tr>\n",
       "      <th>2</th>\n",
       "      <td>86.842308</td>\n",
       "      <td>86.842308</td>\n",
       "    </tr>\n",
       "    <tr>\n",
       "      <th>3</th>\n",
       "      <td>87.226430</td>\n",
       "      <td>87.226430</td>\n",
       "    </tr>\n",
       "    <tr>\n",
       "      <th>4</th>\n",
       "      <td>86.688794</td>\n",
       "      <td>86.688794</td>\n",
       "    </tr>\n",
       "  </tbody>\n",
       "</table>\n",
       "</div>"
      ],
      "text/plain": [
       "   recovery_calc  rougher.output.recovery\n",
       "0      87.107763                87.107763\n",
       "1      86.843261                86.843261\n",
       "2      86.842308                86.842308\n",
       "3      87.226430                87.226430\n",
       "4      86.688794                86.688794"
      ]
     },
     "execution_count": 8,
     "metadata": {},
     "output_type": "execute_result"
    }
   ],
   "source": [
    "df_train[['recovery_calc', 'rougher.output.recovery']][0:5]"
   ]
  },
  {
   "cell_type": "markdown",
   "metadata": {},
   "source": [
    "The first 5 rows are identical, let's calculate MAE to make sure it holds for all observations."
   ]
  },
  {
   "cell_type": "code",
   "execution_count": 9,
   "metadata": {},
   "outputs": [
    {
     "name": "stdout",
     "output_type": "stream",
     "text": [
      "MAE of recovery calulation: 2.4482453097445186e-07\n"
     ]
    }
   ],
   "source": [
    "MAE = (df_train['recovery_calc'] - df_train['rougher.output.recovery']).abs().mean()\n",
    "print(f'MAE of recovery calulation: {MAE}')"
   ]
  },
  {
   "cell_type": "markdown",
   "metadata": {},
   "source": [
    "The MAE shows that the `rougher.output.recovery` was calculated correctly."
   ]
  },
  {
   "cell_type": "markdown",
   "metadata": {},
   "source": [
    "## Missing features analysis"
   ]
  },
  {
   "cell_type": "code",
   "execution_count": 10,
   "metadata": {},
   "outputs": [
    {
     "data": {
      "text/plain": [
       "['final.output.concentrate_ag',\n",
       " 'final.output.concentrate_au',\n",
       " 'final.output.concentrate_pb',\n",
       " 'final.output.concentrate_sol',\n",
       " 'final.output.recovery',\n",
       " 'final.output.tail_ag',\n",
       " 'final.output.tail_au',\n",
       " 'final.output.tail_pb',\n",
       " 'final.output.tail_sol',\n",
       " 'primary_cleaner.output.concentrate_ag',\n",
       " 'primary_cleaner.output.concentrate_au',\n",
       " 'primary_cleaner.output.concentrate_pb',\n",
       " 'primary_cleaner.output.concentrate_sol',\n",
       " 'primary_cleaner.output.tail_ag',\n",
       " 'primary_cleaner.output.tail_au',\n",
       " 'primary_cleaner.output.tail_pb',\n",
       " 'primary_cleaner.output.tail_sol',\n",
       " 'recovery_calc',\n",
       " 'rougher.calculation.au_pb_ratio',\n",
       " 'rougher.calculation.floatbank10_sulfate_to_au_feed',\n",
       " 'rougher.calculation.floatbank11_sulfate_to_au_feed',\n",
       " 'rougher.calculation.sulfate_to_au_concentrate',\n",
       " 'rougher.output.concentrate_ag',\n",
       " 'rougher.output.concentrate_au',\n",
       " 'rougher.output.concentrate_pb',\n",
       " 'rougher.output.concentrate_sol',\n",
       " 'rougher.output.recovery',\n",
       " 'rougher.output.tail_ag',\n",
       " 'rougher.output.tail_au',\n",
       " 'rougher.output.tail_pb',\n",
       " 'rougher.output.tail_sol',\n",
       " 'secondary_cleaner.output.tail_ag',\n",
       " 'secondary_cleaner.output.tail_au',\n",
       " 'secondary_cleaner.output.tail_pb',\n",
       " 'secondary_cleaner.output.tail_sol']"
      ]
     },
     "execution_count": 10,
     "metadata": {},
     "output_type": "execute_result"
    }
   ],
   "source": [
    "missing_col = list(set(df_train.columns)-set(df_test.columns))\n",
    "sorted(missing_col)"
   ]
  },
  {
   "cell_type": "markdown",
   "metadata": {},
   "source": [
    "The missing features are directly connected to the target variables (types **output** and **calculation**). It's only logical that they are not included in the test set as we are developing a model precisely to predict those 2 targets.\n",
    "\n",
    "In order to be able to use an ML model, we need to remove these extra features from the train set, so that both train and test set have the same shapes."
   ]
  },
  {
   "cell_type": "markdown",
   "metadata": {},
   "source": [
    "## Preprocessing"
   ]
  },
  {
   "cell_type": "markdown",
   "metadata": {},
   "source": [
    "### Data type change\n",
    "As mentioned above, let's convert the `date` column into the datetime type."
   ]
  },
  {
   "cell_type": "code",
   "execution_count": 11,
   "metadata": {},
   "outputs": [],
   "source": [
    "df_train['date'] = pd.to_datetime(df_train['date'])\n",
    "df_test['date'] = pd.to_datetime(df_test['date'])"
   ]
  },
  {
   "cell_type": "markdown",
   "metadata": {},
   "source": [
    "### Test targets\n",
    "\n",
    "Let's use the full dataset to extract test targets and include them in the test set to be able to compare our predictions to the actual values."
   ]
  },
  {
   "cell_type": "code",
   "execution_count": 12,
   "metadata": {},
   "outputs": [],
   "source": [
    "df_full['date'] = pd.to_datetime(df_full['date'])"
   ]
  },
  {
   "cell_type": "code",
   "execution_count": 13,
   "metadata": {},
   "outputs": [],
   "source": [
    "df_test = df_test.merge(df_full[['date', 'final.output.recovery', 'rougher.output.recovery']], \n",
    "                        how='left', on='date')"
   ]
  },
  {
   "cell_type": "markdown",
   "metadata": {},
   "source": [
    "### Missing values"
   ]
  },
  {
   "cell_type": "code",
   "execution_count": 14,
   "metadata": {},
   "outputs": [
    {
     "data": {
      "text/plain": [
       "0.021974414968187212"
      ]
     },
     "execution_count": 14,
     "metadata": {},
     "output_type": "execute_result"
    }
   ],
   "source": [
    "df_train.isnull().sum().mean()/len(df_train)"
   ]
  },
  {
   "cell_type": "code",
   "execution_count": 15,
   "metadata": {},
   "outputs": [
    {
     "data": {
      "text/plain": [
       "0.010394932935916543"
      ]
     },
     "execution_count": 15,
     "metadata": {},
     "output_type": "execute_result"
    }
   ],
   "source": [
    "df_test.isnull().sum().mean()/len(df_test)"
   ]
  },
  {
   "cell_type": "code",
   "execution_count": 16,
   "metadata": {},
   "outputs": [
    {
     "data": {
      "text/plain": [
       "rougher.output.recovery               0.152610\n",
       "recovery_calc                         0.135409\n",
       "rougher.output.tail_ag                0.133452\n",
       "rougher.output.tail_sol               0.133393\n",
       "rougher.output.tail_au                0.133393\n",
       "secondary_cleaner.output.tail_sol     0.117794\n",
       "rougher.input.floatbank11_xanthate    0.112930\n",
       "final.output.recovery                 0.090214\n",
       "primary_cleaner.input.sulfate         0.077521\n",
       "primary_cleaner.input.depressant      0.074852\n",
       "dtype: float64"
      ]
     },
     "execution_count": 16,
     "metadata": {},
     "output_type": "execute_result"
    }
   ],
   "source": [
    "df_train.isnull().mean().sort_values(ascending=False).head(10)"
   ]
  },
  {
   "cell_type": "code",
   "execution_count": 17,
   "metadata": {
    "scrolled": true
   },
   "outputs": [
    {
     "data": {
      "text/plain": [
       "rougher.output.recovery               0.093238\n",
       "final.output.recovery                 0.075478\n",
       "rougher.input.floatbank11_xanthate    0.060280\n",
       "primary_cleaner.input.sulfate         0.051571\n",
       "primary_cleaner.input.depressant      0.048497\n",
       "rougher.input.floatbank10_sulfate     0.043887\n",
       "primary_cleaner.input.xanthate        0.028347\n",
       "rougher.input.floatbank10_xanthate    0.021004\n",
       "rougher.input.feed_sol                0.011441\n",
       "rougher.input.floatbank11_sulfate     0.009392\n",
       "dtype: float64"
      ]
     },
     "execution_count": 17,
     "metadata": {},
     "output_type": "execute_result"
    }
   ],
   "source": [
    "df_test.isnull().mean().sort_values(ascending=False).head(10)"
   ]
  },
  {
   "cell_type": "code",
   "execution_count": 18,
   "metadata": {},
   "outputs": [],
   "source": [
    "df_train = df_train.fillna(method='ffill').fillna(method='bfill')"
   ]
  },
  {
   "cell_type": "code",
   "execution_count": 19,
   "metadata": {},
   "outputs": [],
   "source": [
    "df_test = df_test.fillna(method='ffill').fillna(method='bfill')"
   ]
  },
  {
   "cell_type": "code",
   "execution_count": 21,
   "metadata": {},
   "outputs": [
    {
     "data": {
      "text/plain": [
       "0"
      ]
     },
     "execution_count": 21,
     "metadata": {},
     "output_type": "execute_result"
    }
   ],
   "source": [
    "df_train.isnull().sum().sum()"
   ]
  },
  {
   "cell_type": "code",
   "execution_count": 22,
   "metadata": {},
   "outputs": [
    {
     "data": {
      "text/plain": [
       "(16860, 88)"
      ]
     },
     "execution_count": 22,
     "metadata": {},
     "output_type": "execute_result"
    }
   ],
   "source": [
    "df_train.shape"
   ]
  },
  {
   "cell_type": "code",
   "execution_count": 23,
   "metadata": {},
   "outputs": [
    {
     "data": {
      "text/plain": [
       "0"
      ]
     },
     "execution_count": 23,
     "metadata": {},
     "output_type": "execute_result"
    }
   ],
   "source": [
    "df_test.isnull().sum().sum()"
   ]
  },
  {
   "cell_type": "code",
   "execution_count": 24,
   "metadata": {},
   "outputs": [
    {
     "data": {
      "text/plain": [
       "(5856, 55)"
      ]
     },
     "execution_count": 24,
     "metadata": {},
     "output_type": "execute_result"
    }
   ],
   "source": [
    "df_test.shape"
   ]
  },
  {
   "cell_type": "markdown",
   "metadata": {},
   "source": [
    "All missing values were filled using forward and backward fill in pandas dataframe (ffill and bfill)"
   ]
  },
  {
   "cell_type": "markdown",
   "metadata": {},
   "source": [
    "### Duplicates\n",
    "Let's check if any rows are duplicated."
   ]
  },
  {
   "cell_type": "code",
   "execution_count": 25,
   "metadata": {},
   "outputs": [
    {
     "data": {
      "text/plain": [
       "0"
      ]
     },
     "execution_count": 25,
     "metadata": {},
     "output_type": "execute_result"
    }
   ],
   "source": [
    "df_train.duplicated().sum()"
   ]
  },
  {
   "cell_type": "code",
   "execution_count": 26,
   "metadata": {},
   "outputs": [
    {
     "data": {
      "text/plain": [
       "0"
      ]
     },
     "execution_count": 26,
     "metadata": {},
     "output_type": "execute_result"
    }
   ],
   "source": [
    "df_test.duplicated().sum()"
   ]
  },
  {
   "cell_type": "markdown",
   "metadata": {},
   "source": [
    "## EDA\n",
    "### Concentrations of metals\n",
    "Let's see how the concentrations of metals (Au, Ag, Pb) change depending on the purification stage."
   ]
  },
  {
   "cell_type": "code",
   "execution_count": 27,
   "metadata": {},
   "outputs": [
    {
     "data": {
      "image/png": "[encoded data removed]",
      "text/plain": [
       "<Figure size 864x432 with 3 Axes>"
      ]
     },
     "metadata": {
      "needs_background": "light"
     },
     "output_type": "display_data"
    }
   ],
   "source": [
    "metals = ['au', 'ag', 'pb']\n",
    "stages = ['rougher.output.concentrate', 'primary_cleaner.output.concentrate', 'final.output.concentrate']\n",
    "plt.figure(figsize=(12,6))\n",
    "\n",
    "for i,metal in enumerate(metals):\n",
    "    for stage in stages:\n",
    "        plt.subplot(3,1,i+1) \n",
    "        plt.hist(df_train[stage+'_'+metal], bins=100, label=stage+'_'+metal, alpha=.5);\n",
    "    plt.title(metal)\n",
    "\n",
    "    plt.legend()\n",
    "    plt.xlabel(\"purification stage\")\n",
    "    plt.ylabel(\"concentration of metals\")\n",
    "    \n",
    "plt.tight_layout()"
   ]
  },
  {
   "cell_type": "markdown",
   "metadata": {},
   "source": [
    "First of all, we see around 2000 outliers for each metal and stage - values with 0 concentration of metals. We will need to remove them as they directly correlate with our targets.\n",
    "\n",
    "As for the gold concentration (`au`), there is a clear trend towards quality improvement after each stage: the share of gold is higher and higher on average as we proceed with purification (from 20% to more than 45%, on average).\n",
    "\n",
    "Interestingly, we see the opposite trend for silver concentration (`ag`): the more we purify the feed, the lower gets the share of this metal (from around 11% to less than 5%, on average).\n",
    "\n",
    "As for the lead concentration (`pb`), we can say that there is probably no need for the second purification stage, as the quality of this metal doesn't improve, on average. However, we see a slight improvement after the first stage (from around 8% to almost 11%, on average). "
   ]
  },
  {
   "cell_type": "markdown",
   "metadata": {},
   "source": [
    "### Feed particle size comparison\n",
    "\n",
    "Let's compare the feed particle size distributions in the training set and in the test set. If the distributions vary significantly, the model evaluation will be incorrect."
   ]
  },
  {
   "cell_type": "code",
   "execution_count": 28,
   "metadata": {},
   "outputs": [
    {
     "data": {
      "image/png": "[encoded data removed]",
      "text/plain": [
       "<Figure size 864x432 with 1 Axes>"
      ]
     },
     "metadata": {
      "needs_background": "light"
     },
     "output_type": "display_data"
    }
   ],
   "source": [
    "plt.figure(figsize=(12,6))\n",
    "plt.hist(df_train['rougher.input.feed_size'],bins=50,label='rougher.input.feed_size_train',alpha=.5, density=1)\n",
    "plt.hist(df_test['rougher.input.feed_size'],bins=50,label='rougher.input.feed_size_test',alpha=.5, density=1)\n",
    "plt.legend()\n",
    "plt.title('Feed particle size comparison');"
   ]
  },
  {
   "cell_type": "markdown",
   "metadata": {},
   "source": [
    "The two distributions are very close to each other, which means that we will not have a problem of applying a model trained on the train set to the test set."
   ]
  },
  {
   "cell_type": "code",
   "execution_count": 29,
   "metadata": {},
   "outputs": [],
   "source": [
    "average_particle_train = df_train['rougher.input.feed_size'].mean()\n",
    "average_particle_test = df_test['rougher.input.feed_size'].mean()"
   ]
  },
  {
   "cell_type": "code",
   "execution_count": 30,
   "metadata": {},
   "outputs": [
    {
     "name": "stdout",
     "output_type": "stream",
     "text": [
      "Average particle train size 60.1885953360163\n",
      "Average particle test size 55.89886568885056\n"
     ]
    }
   ],
   "source": [
    "print(\"Average particle train size\", average_particle_train)\n",
    "print(\"Average particle test size\", average_particle_test)"
   ]
  },
  {
   "cell_type": "markdown",
   "metadata": {},
   "source": [
    "### Outliers\n",
    "Let's remove the outliers in the target variables. We will first transform any 0 values to NaNs and then drop them from the data sets because there amount is insignificant."
   ]
  },
  {
   "cell_type": "code",
   "execution_count": 31,
   "metadata": {},
   "outputs": [
    {
     "data": {
      "image/png": "[encoded data removed]",
      "text/plain": [
       "<Figure size 864x432 with 1 Axes>"
      ]
     },
     "metadata": {
      "needs_background": "light"
     },
     "output_type": "display_data"
    }
   ],
   "source": [
    "plt.figure(figsize=(12,6))\n",
    "\n",
    "for stage in stages:\n",
    "    df_train[stage+'_all_metals'] = 0\n",
    "    for metal in metals:\n",
    "        df_train[stage+'_all_metals'] += df_train[stage+'_'+metal]\n",
    "    plt.hist(df_train[stage+'_all_metals'], bins=100, label=stage, alpha=.5)\n",
    "    plt.title('Total concentration of metals per stage')\n",
    "    plt.legend();"
   ]
  },
  {
   "cell_type": "markdown",
   "metadata": {},
   "source": [
    "We can see that the total concentration of metals per stage does get better, on average.\n",
    "\n",
    "Just as before we see multiple outliers around 0, let's remove them."
   ]
  },
  {
   "cell_type": "code",
   "execution_count": 32,
   "metadata": {},
   "outputs": [],
   "source": [
    "for i,metal in enumerate(metals):\n",
    "    for stage in stages:\n",
    "        df_train[df_train[stage+'_'+metal]<0.01] = np.nan\n",
    "df_train = df_train.dropna(how='any', axis=0)"
   ]
  },
  {
   "cell_type": "code",
   "execution_count": 33,
   "metadata": {},
   "outputs": [
    {
     "data": {
      "text/plain": [
       "0"
      ]
     },
     "execution_count": 33,
     "metadata": {},
     "output_type": "execute_result"
    }
   ],
   "source": [
    "df_train.isnull().sum().sum()"
   ]
  },
  {
   "cell_type": "code",
   "execution_count": 34,
   "metadata": {},
   "outputs": [
    {
     "data": {
      "text/plain": [
       "(14347, 91)"
      ]
     },
     "execution_count": 34,
     "metadata": {},
     "output_type": "execute_result"
    }
   ],
   "source": [
    "df_train.shape"
   ]
  },
  {
   "cell_type": "markdown",
   "metadata": {},
   "source": [
    "### Target analysis\n",
    "Finally, let's analyze our targets."
   ]
  },
  {
   "cell_type": "code",
   "execution_count": 35,
   "metadata": {},
   "outputs": [
    {
     "data": {
      "image/png": "[encoded data removed]",
      "text/plain": [
       "<Figure size 720x720 with 4 Axes>"
      ]
     },
     "metadata": {
      "needs_background": "light"
     },
     "output_type": "display_data"
    }
   ],
   "source": [
    "targets = ['rougher.output.recovery', 'final.output.recovery']\n",
    "dfs = [df_train, df_test]\n",
    "df_train.name = 'df_train'\n",
    "df_test.name = 'df_test'\n",
    "\n",
    "plt.figure(figsize=(10,10))\n",
    "c=1\n",
    "for i, df in enumerate(dfs):\n",
    "    for target in targets:\n",
    "        plt.subplot(4,2,c)\n",
    "        plt.hist(df[target], alpha=.5)\n",
    "        plt.title(df.name)\n",
    "        plt.xlabel(target)\n",
    "        c = c + 1\n",
    "plt.tight_layout()"
   ]
  },
  {
   "cell_type": "markdown",
   "metadata": {},
   "source": [
    "Train distribution looks ok, both targets in the test set have outliers around 0, let's remove them."
   ]
  },
  {
   "cell_type": "code",
   "execution_count": 36,
   "metadata": {},
   "outputs": [],
   "source": [
    "for target in targets:\n",
    "    df_test[df_test[target]<0.01] = np.nan\n",
    "    \n",
    "df_test = df_test.dropna(how='any', axis=0)"
   ]
  },
  {
   "cell_type": "code",
   "execution_count": 37,
   "metadata": {},
   "outputs": [
    {
     "data": {
      "text/plain": [
       "0"
      ]
     },
     "execution_count": 37,
     "metadata": {},
     "output_type": "execute_result"
    }
   ],
   "source": [
    "df_test.isnull().sum().sum()"
   ]
  },
  {
   "cell_type": "code",
   "execution_count": 38,
   "metadata": {},
   "outputs": [
    {
     "data": {
      "text/plain": [
       "(5678, 55)"
      ]
     },
     "execution_count": 38,
     "metadata": {},
     "output_type": "execute_result"
    }
   ],
   "source": [
    "df_test.shape"
   ]
  },
  {
   "cell_type": "markdown",
   "metadata": {},
   "source": [
    "## Common columns\n",
    "In the end, we will get rid of extra features in the train set."
   ]
  },
  {
   "cell_type": "code",
   "execution_count": 39,
   "metadata": {},
   "outputs": [],
   "source": [
    "common_columns =  list(set(df_train.columns).intersection(set(df_test.columns)))\n",
    "df_train_filtered = df_train[common_columns]\n",
    "df_train_filtered[['rougher.output.recovery', 'final.output.recovery']] = df_train[['rougher.output.recovery', 'final.output.recovery']]"
   ]
  },
  {
   "cell_type": "markdown",
   "metadata": {},
   "source": [
    "## Standard scaling\n",
    "Let's scale the features before modeling to be able to compare their coefficients in the later sections."
   ]
  },
  {
   "cell_type": "code",
   "execution_count": 40,
   "metadata": {},
   "outputs": [],
   "source": [
    "X_train = df_train_filtered.drop(['rougher.output.recovery', 'final.output.recovery', 'date'], axis=1)\n",
    "X_test =  df_test.drop(['rougher.output.recovery', 'final.output.recovery', 'date'], axis=1)\n",
    "y_train = df_train_filtered[['rougher.output.recovery', 'final.output.recovery']].values\n",
    "y_test = df_test[['rougher.output.recovery', 'final.output.recovery']].values\n",
    "\n",
    "sc = ss()\n",
    "X_train = sc.fit_transform(X_train)\n",
    "X_test = sc.transform(X_test)"
   ]
  },
  {
   "cell_type": "markdown",
   "metadata": {},
   "source": [
    "## Evaluation metric\n",
    "\n",
    "Let's write a function to calculate the final sMAPE value. \n",
    "\n",
    "**sMAPE** is a symmetric Mean Absolute Percentage Error.\n",
    "\n",
    "It is similar to MAE, but is expressed in relative values instead of absolute ones. It equally takes into account the scale of both the target and the prediction.\n",
    "\n",
    "Here’s how *sMAPE* is calculated:\n",
    "\n",
    "![sMAPE](https://github.com/annapmp/Gold-recovery-prediction/blob/main/sMAPE.png?raw=true)\n",
    "\n",
    "Denotation:\n",
    "\n",
    "- Value of target for the observation with the *i* index in the sample used to measure quality.\n",
    "- Value of prediction for the observation with the *i* index, for example, in the test sample.\n",
    "- Number of observations in the sample.\n",
    "- Summation over all observations of the sample (***i*** takes values from 1 to *N*).\n",
    "\n",
    "We need to predict two values:\n",
    "\n",
    "1. rougher concentrate recovery `rougher.output.recovery`\n",
    "2. final concentrate recovery `final.output.recovery`\n",
    "\n",
    "**The final metric** includes the two values:\n",
    "\n",
    "![final_sMAPE](https://github.com/annapmp/Gold-recovery-prediction/blob/main/Final_sMAPE.png?raw=true)"
   ]
  },
  {
   "cell_type": "code",
   "execution_count": 41,
   "metadata": {},
   "outputs": [],
   "source": [
    "def smape(y_true, y_pred):\n",
    "    return (np.abs(y_true-y_pred)/((np.abs(y_true) + np.abs(y_pred))/2)).mean()"
   ]
  },
  {
   "cell_type": "code",
   "execution_count": 42,
   "metadata": {},
   "outputs": [],
   "source": [
    "def smape_final(y_true,y_pred):\n",
    "    smape_rougher = smape(y_true[:,0], y_pred[:,0])\n",
    "    smape_final = smape(y_true[:,1], y_pred[:,1])\n",
    "    return 0.25*smape_rougher + 0.75*smape_final"
   ]
  },
  {
   "cell_type": "markdown",
   "metadata": {},
   "source": [
    "## Model selection"
   ]
  },
  {
   "cell_type": "markdown",
   "metadata": {},
   "source": [
    "Now let's train our models on the train set and select the best model using the cross-validation technique."
   ]
  },
  {
   "cell_type": "code",
   "execution_count": 43,
   "metadata": {},
   "outputs": [],
   "source": [
    "LR = LinearRegression()\n",
    "DT = DecisionTreeRegressor(random_state=12345)\n",
    "RF = RandomForestRegressor(random_state=12345)\n",
    "Lasso = linear_model.Lasso()\n",
    "Ridge = linear_model.Ridge()\n",
    "base_model = DummyRegressor(strategy='mean')"
   ]
  },
  {
   "cell_type": "code",
   "execution_count": 44,
   "metadata": {},
   "outputs": [],
   "source": [
    "def crossval(model, X_train, y_train, cv):\n",
    "    smape_score = make_scorer(smape_final)\n",
    "    scores = cross_val_score(model, X_train, y_train, cv=cv, scoring=smape_score)\n",
    "    return scores.mean()"
   ]
  },
  {
   "cell_type": "code",
   "execution_count": 45,
   "metadata": {},
   "outputs": [],
   "source": [
    "smape_final_Lasso = crossval(Lasso, X_train, y_train, 5)\n",
    "smape_final_Ridge = crossval(Ridge, X_train, y_train, 5)\n",
    "smape_final_LR = crossval(LR, X_train, y_train, 5)\n",
    "smape_final_DT = crossval(DT, X_train, y_train, 5)\n",
    "smape_final_RF = crossval(RF, X_train, y_train, 5)\n",
    "smape_final_base = crossval(base_model, X_train, y_train, 5)"
   ]
  },
  {
   "cell_type": "code",
   "execution_count": 46,
   "metadata": {},
   "outputs": [],
   "source": [
    "models = pd.DataFrame({\n",
    "    'Model': ['Baseline', 'LR', 'DT', 'RF', 'Lasso', 'Ridge'],\n",
    "    'Score': [smape_final_base, smape_final_LR, smape_final_DT, smape_final_RF, smape_final_Lasso, smape_final_Ridge]})\n",
    "sorted_by_score = models.sort_values(by='Score', ascending=False)"
   ]
  },
  {
   "cell_type": "code",
   "execution_count": 47,
   "metadata": {},
   "outputs": [
    {
     "data": {
      "image/png": "[encoded data removed]",
      "text/plain": [
       "<Figure size 432x288 with 1 Axes>"
      ]
     },
     "metadata": {
      "needs_background": "light"
     },
     "output_type": "display_data"
    }
   ],
   "source": [
    "sns.barplot(x='Score', y = 'Model', data = sorted_by_score, color = 'g')\n",
    "plt.title('Machine Learning Algorithms Smape final Score \\n')\n",
    "plt.xlabel('Average sMAPE final score')\n",
    "plt.ylabel('Model');"
   ]
  },
  {
   "cell_type": "markdown",
   "metadata": {},
   "source": [
    "Lasso regression model shows the best average score. Let's try to tune its hyperparameters."
   ]
  },
  {
   "cell_type": "markdown",
   "metadata": {},
   "source": [
    "---"
   ]
  },
  {
   "cell_type": "markdown",
   "metadata": {},
   "source": [
    "## Hyperparameter tuning"
   ]
  },
  {
   "cell_type": "code",
   "execution_count": 48,
   "metadata": {},
   "outputs": [
    {
     "data": {
      "text/html": [
       "<div>\n",
       "<style scoped>\n",
       "    .dataframe tbody tr th:only-of-type {\n",
       "        vertical-align: middle;\n",
       "    }\n",
       "\n",
       "    .dataframe tbody tr th {\n",
       "        vertical-align: top;\n",
       "    }\n",
       "\n",
       "    .dataframe thead th {\n",
       "        text-align: right;\n",
       "    }\n",
       "</style>\n",
       "<table border=\"1\" class=\"dataframe\">\n",
       "  <thead>\n",
       "    <tr style=\"text-align: right;\">\n",
       "      <th></th>\n",
       "      <th>alpha</th>\n",
       "      <th>tol</th>\n",
       "      <th>max_iter</th>\n",
       "      <th>smape_final_Lasso</th>\n",
       "    </tr>\n",
       "  </thead>\n",
       "  <tbody>\n",
       "    <tr>\n",
       "      <th>0</th>\n",
       "      <td>0.1</td>\n",
       "      <td>0.01</td>\n",
       "      <td>100</td>\n",
       "      <td>0.093763</td>\n",
       "    </tr>\n",
       "  </tbody>\n",
       "</table>\n",
       "</div>"
      ],
      "text/plain": [
       "   alpha   tol  max_iter  smape_final_Lasso\n",
       "0    0.1  0.01       100           0.093763"
      ]
     },
     "execution_count": 48,
     "metadata": {},
     "output_type": "execute_result"
    }
   ],
   "source": [
    "d = []\n",
    "for alpha in np.arange(0.1,1,0.1):\n",
    "    for tol in [0.01, 0.05, 0.001]:\n",
    "        for max_iter in (100, 500, 1000):\n",
    "            Lasso = linear_model.Lasso(alpha=alpha, tol=tol, max_iter=max_iter)\n",
    "            smape_final_Lasso = crossval(Lasso, X_train, y_train, 5)\n",
    "            d.append(\n",
    "            {\n",
    "                'alpha': alpha,\n",
    "                'tol': tol,\n",
    "                'max_iter': max_iter,\n",
    "                'smape_final_Lasso':  smape_final_Lasso\n",
    "            }\n",
    "            )\n",
    "        \n",
    "best_param = pd.DataFrame(d).nlargest(1, ['smape_final_Lasso'], keep='first')\n",
    "smape_final_RF = best_param['smape_final_Lasso'].values\n",
    "best_param"
   ]
  },
  {
   "cell_type": "markdown",
   "metadata": {},
   "source": [
    "## Test the model"
   ]
  },
  {
   "cell_type": "code",
   "execution_count": 49,
   "metadata": {},
   "outputs": [
    {
     "data": {
      "text/plain": [
       "1.8185331076931617"
      ]
     },
     "execution_count": 49,
     "metadata": {},
     "output_type": "execute_result"
    }
   ],
   "source": [
    "Lasso = linear_model.Lasso(alpha=0.1, tol=0.001, max_iter=100)\n",
    "Lasso.fit(X_train, y_train)\n",
    "y_pred = Lasso.predict(X_test)\n",
    "smape_final(y_test, y_pred)"
   ]
  },
  {
   "cell_type": "markdown",
   "metadata": {},
   "source": [
    "The test score is pretty bad even after hyper parameters tuning. The model seems to be overfitted to the train set. Let's try feature selection to reduce overfitting."
   ]
  },
  {
   "cell_type": "markdown",
   "metadata": {},
   "source": [
    "---"
   ]
  },
  {
   "cell_type": "markdown",
   "metadata": {},
   "source": [
    "## Feature importances\n",
    "\n",
    "One of the goals of this report is to eliminate unprofitable features. We can do that by comparing feature importances."
   ]
  },
  {
   "cell_type": "code",
   "execution_count": 50,
   "metadata": {},
   "outputs": [
    {
     "data": {
      "text/html": [
       "<div>\n",
       "<style scoped>\n",
       "    .dataframe tbody tr th:only-of-type {\n",
       "        vertical-align: middle;\n",
       "    }\n",
       "\n",
       "    .dataframe tbody tr th {\n",
       "        vertical-align: top;\n",
       "    }\n",
       "\n",
       "    .dataframe thead th {\n",
       "        text-align: right;\n",
       "    }\n",
       "</style>\n",
       "<table border=\"1\" class=\"dataframe\">\n",
       "  <thead>\n",
       "    <tr style=\"text-align: right;\">\n",
       "      <th></th>\n",
       "      <th>Feature</th>\n",
       "      <th>Correlation</th>\n",
       "    </tr>\n",
       "  </thead>\n",
       "  <tbody>\n",
       "    <tr>\n",
       "      <th>44</th>\n",
       "      <td>rougher.state.floatbank10_f_air</td>\n",
       "      <td>2.798929</td>\n",
       "    </tr>\n",
       "    <tr>\n",
       "      <th>3</th>\n",
       "      <td>rougher.input.feed_sol</td>\n",
       "      <td>2.331558</td>\n",
       "    </tr>\n",
       "    <tr>\n",
       "      <th>10</th>\n",
       "      <td>rougher.input.floatbank10_xanthate</td>\n",
       "      <td>2.069115</td>\n",
       "    </tr>\n",
       "    <tr>\n",
       "      <th>36</th>\n",
       "      <td>secondary_cleaner.state.floatbank4_a_level</td>\n",
       "      <td>1.972594</td>\n",
       "    </tr>\n",
       "    <tr>\n",
       "      <th>32</th>\n",
       "      <td>rougher.state.floatbank10_a_level</td>\n",
       "      <td>1.963794</td>\n",
       "    </tr>\n",
       "    <tr>\n",
       "      <th>18</th>\n",
       "      <td>primary_cleaner.input.sulfate</td>\n",
       "      <td>1.742084</td>\n",
       "    </tr>\n",
       "    <tr>\n",
       "      <th>8</th>\n",
       "      <td>secondary_cleaner.state.floatbank5_a_air</td>\n",
       "      <td>1.691105</td>\n",
       "    </tr>\n",
       "    <tr>\n",
       "      <th>50</th>\n",
       "      <td>secondary_cleaner.state.floatbank2_a_air</td>\n",
       "      <td>1.526262</td>\n",
       "    </tr>\n",
       "    <tr>\n",
       "      <th>37</th>\n",
       "      <td>primary_cleaner.state.floatbank8_b_air</td>\n",
       "      <td>1.429936</td>\n",
       "    </tr>\n",
       "    <tr>\n",
       "      <th>29</th>\n",
       "      <td>rougher.state.floatbank10_c_level</td>\n",
       "      <td>1.350171</td>\n",
       "    </tr>\n",
       "    <tr>\n",
       "      <th>13</th>\n",
       "      <td>secondary_cleaner.state.floatbank3_a_air</td>\n",
       "      <td>1.218876</td>\n",
       "    </tr>\n",
       "    <tr>\n",
       "      <th>19</th>\n",
       "      <td>rougher.input.feed_ag</td>\n",
       "      <td>1.070445</td>\n",
       "    </tr>\n",
       "    <tr>\n",
       "      <th>28</th>\n",
       "      <td>rougher.state.floatbank10_f_level</td>\n",
       "      <td>1.011602</td>\n",
       "    </tr>\n",
       "    <tr>\n",
       "      <th>51</th>\n",
       "      <td>secondary_cleaner.state.floatbank5_b_level</td>\n",
       "      <td>0.802379</td>\n",
       "    </tr>\n",
       "    <tr>\n",
       "      <th>4</th>\n",
       "      <td>secondary_cleaner.state.floatbank3_b_level</td>\n",
       "      <td>0.764518</td>\n",
       "    </tr>\n",
       "    <tr>\n",
       "      <th>38</th>\n",
       "      <td>secondary_cleaner.state.floatbank4_b_air</td>\n",
       "      <td>0.663784</td>\n",
       "    </tr>\n",
       "    <tr>\n",
       "      <th>14</th>\n",
       "      <td>secondary_cleaner.state.floatbank2_a_level</td>\n",
       "      <td>0.603250</td>\n",
       "    </tr>\n",
       "    <tr>\n",
       "      <th>17</th>\n",
       "      <td>rougher.state.floatbank10_b_level</td>\n",
       "      <td>0.478468</td>\n",
       "    </tr>\n",
       "    <tr>\n",
       "      <th>39</th>\n",
       "      <td>rougher.input.feed_au</td>\n",
       "      <td>0.464446</td>\n",
       "    </tr>\n",
       "    <tr>\n",
       "      <th>15</th>\n",
       "      <td>rougher.input.feed_pb</td>\n",
       "      <td>0.309777</td>\n",
       "    </tr>\n",
       "    <tr>\n",
       "      <th>23</th>\n",
       "      <td>primary_cleaner.input.feed_size</td>\n",
       "      <td>0.250667</td>\n",
       "    </tr>\n",
       "    <tr>\n",
       "      <th>40</th>\n",
       "      <td>primary_cleaner.state.floatbank8_c_level</td>\n",
       "      <td>0.224859</td>\n",
       "    </tr>\n",
       "    <tr>\n",
       "      <th>26</th>\n",
       "      <td>primary_cleaner.state.floatbank8_d_level</td>\n",
       "      <td>0.219182</td>\n",
       "    </tr>\n",
       "    <tr>\n",
       "      <th>25</th>\n",
       "      <td>primary_cleaner.state.floatbank8_a_level</td>\n",
       "      <td>0.086055</td>\n",
       "    </tr>\n",
       "    <tr>\n",
       "      <th>24</th>\n",
       "      <td>rougher.input.floatbank11_sulfate</td>\n",
       "      <td>-0.014505</td>\n",
       "    </tr>\n",
       "    <tr>\n",
       "      <th>30</th>\n",
       "      <td>primary_cleaner.input.depressant</td>\n",
       "      <td>-0.076458</td>\n",
       "    </tr>\n",
       "    <tr>\n",
       "      <th>1</th>\n",
       "      <td>primary_cleaner.input.xanthate</td>\n",
       "      <td>-0.174767</td>\n",
       "    </tr>\n",
       "    <tr>\n",
       "      <th>7</th>\n",
       "      <td>rougher.input.feed_size</td>\n",
       "      <td>-0.232374</td>\n",
       "    </tr>\n",
       "    <tr>\n",
       "      <th>22</th>\n",
       "      <td>primary_cleaner.state.floatbank8_c_air</td>\n",
       "      <td>-0.245238</td>\n",
       "    </tr>\n",
       "    <tr>\n",
       "      <th>21</th>\n",
       "      <td>primary_cleaner.state.floatbank8_b_level</td>\n",
       "      <td>-0.271679</td>\n",
       "    </tr>\n",
       "    <tr>\n",
       "      <th>47</th>\n",
       "      <td>rougher.state.floatbank10_d_air</td>\n",
       "      <td>-0.276126</td>\n",
       "    </tr>\n",
       "    <tr>\n",
       "      <th>48</th>\n",
       "      <td>secondary_cleaner.state.floatbank5_b_air</td>\n",
       "      <td>-0.360403</td>\n",
       "    </tr>\n",
       "    <tr>\n",
       "      <th>6</th>\n",
       "      <td>rougher.input.floatbank11_xanthate</td>\n",
       "      <td>-0.372599</td>\n",
       "    </tr>\n",
       "    <tr>\n",
       "      <th>9</th>\n",
       "      <td>primary_cleaner.state.floatbank8_a_air</td>\n",
       "      <td>-0.419172</td>\n",
       "    </tr>\n",
       "    <tr>\n",
       "      <th>41</th>\n",
       "      <td>secondary_cleaner.state.floatbank5_a_level</td>\n",
       "      <td>-0.499310</td>\n",
       "    </tr>\n",
       "    <tr>\n",
       "      <th>0</th>\n",
       "      <td>rougher.state.floatbank10_b_air</td>\n",
       "      <td>-0.555823</td>\n",
       "    </tr>\n",
       "    <tr>\n",
       "      <th>16</th>\n",
       "      <td>secondary_cleaner.state.floatbank6_a_level</td>\n",
       "      <td>-0.655537</td>\n",
       "    </tr>\n",
       "    <tr>\n",
       "      <th>49</th>\n",
       "      <td>secondary_cleaner.state.floatbank4_b_level</td>\n",
       "      <td>-0.717000</td>\n",
       "    </tr>\n",
       "    <tr>\n",
       "      <th>11</th>\n",
       "      <td>primary_cleaner.state.floatbank8_d_air</td>\n",
       "      <td>-0.865101</td>\n",
       "    </tr>\n",
       "    <tr>\n",
       "      <th>27</th>\n",
       "      <td>secondary_cleaner.state.floatbank4_a_air</td>\n",
       "      <td>-0.894653</td>\n",
       "    </tr>\n",
       "    <tr>\n",
       "      <th>20</th>\n",
       "      <td>secondary_cleaner.state.floatbank6_a_air</td>\n",
       "      <td>-1.001472</td>\n",
       "    </tr>\n",
       "    <tr>\n",
       "      <th>46</th>\n",
       "      <td>secondary_cleaner.state.floatbank3_b_air</td>\n",
       "      <td>-1.031821</td>\n",
       "    </tr>\n",
       "    <tr>\n",
       "      <th>35</th>\n",
       "      <td>secondary_cleaner.state.floatbank2_b_air</td>\n",
       "      <td>-1.077363</td>\n",
       "    </tr>\n",
       "    <tr>\n",
       "      <th>42</th>\n",
       "      <td>rougher.state.floatbank10_c_air</td>\n",
       "      <td>-1.120610</td>\n",
       "    </tr>\n",
       "    <tr>\n",
       "      <th>45</th>\n",
       "      <td>secondary_cleaner.state.floatbank3_a_level</td>\n",
       "      <td>-1.221200</td>\n",
       "    </tr>\n",
       "    <tr>\n",
       "      <th>2</th>\n",
       "      <td>secondary_cleaner.state.floatbank2_b_level</td>\n",
       "      <td>-1.244061</td>\n",
       "    </tr>\n",
       "    <tr>\n",
       "      <th>5</th>\n",
       "      <td>rougher.input.floatbank10_sulfate</td>\n",
       "      <td>-1.334126</td>\n",
       "    </tr>\n",
       "    <tr>\n",
       "      <th>34</th>\n",
       "      <td>rougher.state.floatbank10_d_level</td>\n",
       "      <td>-1.393883</td>\n",
       "    </tr>\n",
       "    <tr>\n",
       "      <th>43</th>\n",
       "      <td>rougher.state.floatbank10_e_level</td>\n",
       "      <td>-1.516149</td>\n",
       "    </tr>\n",
       "    <tr>\n",
       "      <th>12</th>\n",
       "      <td>rougher.state.floatbank10_a_air</td>\n",
       "      <td>-1.576127</td>\n",
       "    </tr>\n",
       "    <tr>\n",
       "      <th>33</th>\n",
       "      <td>rougher.state.floatbank10_e_air</td>\n",
       "      <td>-1.641900</td>\n",
       "    </tr>\n",
       "    <tr>\n",
       "      <th>31</th>\n",
       "      <td>rougher.input.feed_rate</td>\n",
       "      <td>-1.701204</td>\n",
       "    </tr>\n",
       "  </tbody>\n",
       "</table>\n",
       "</div>"
      ],
      "text/plain": [
       "                                       Feature  Correlation\n",
       "44             rougher.state.floatbank10_f_air     2.798929\n",
       "3                       rougher.input.feed_sol     2.331558\n",
       "10          rougher.input.floatbank10_xanthate     2.069115\n",
       "36  secondary_cleaner.state.floatbank4_a_level     1.972594\n",
       "32           rougher.state.floatbank10_a_level     1.963794\n",
       "18               primary_cleaner.input.sulfate     1.742084\n",
       "8     secondary_cleaner.state.floatbank5_a_air     1.691105\n",
       "50    secondary_cleaner.state.floatbank2_a_air     1.526262\n",
       "37      primary_cleaner.state.floatbank8_b_air     1.429936\n",
       "29           rougher.state.floatbank10_c_level     1.350171\n",
       "13    secondary_cleaner.state.floatbank3_a_air     1.218876\n",
       "19                       rougher.input.feed_ag     1.070445\n",
       "28           rougher.state.floatbank10_f_level     1.011602\n",
       "51  secondary_cleaner.state.floatbank5_b_level     0.802379\n",
       "4   secondary_cleaner.state.floatbank3_b_level     0.764518\n",
       "38    secondary_cleaner.state.floatbank4_b_air     0.663784\n",
       "14  secondary_cleaner.state.floatbank2_a_level     0.603250\n",
       "17           rougher.state.floatbank10_b_level     0.478468\n",
       "39                       rougher.input.feed_au     0.464446\n",
       "15                       rougher.input.feed_pb     0.309777\n",
       "23             primary_cleaner.input.feed_size     0.250667\n",
       "40    primary_cleaner.state.floatbank8_c_level     0.224859\n",
       "26    primary_cleaner.state.floatbank8_d_level     0.219182\n",
       "25    primary_cleaner.state.floatbank8_a_level     0.086055\n",
       "24           rougher.input.floatbank11_sulfate    -0.014505\n",
       "30            primary_cleaner.input.depressant    -0.076458\n",
       "1               primary_cleaner.input.xanthate    -0.174767\n",
       "7                      rougher.input.feed_size    -0.232374\n",
       "22      primary_cleaner.state.floatbank8_c_air    -0.245238\n",
       "21    primary_cleaner.state.floatbank8_b_level    -0.271679\n",
       "47             rougher.state.floatbank10_d_air    -0.276126\n",
       "48    secondary_cleaner.state.floatbank5_b_air    -0.360403\n",
       "6           rougher.input.floatbank11_xanthate    -0.372599\n",
       "9       primary_cleaner.state.floatbank8_a_air    -0.419172\n",
       "41  secondary_cleaner.state.floatbank5_a_level    -0.499310\n",
       "0              rougher.state.floatbank10_b_air    -0.555823\n",
       "16  secondary_cleaner.state.floatbank6_a_level    -0.655537\n",
       "49  secondary_cleaner.state.floatbank4_b_level    -0.717000\n",
       "11      primary_cleaner.state.floatbank8_d_air    -0.865101\n",
       "27    secondary_cleaner.state.floatbank4_a_air    -0.894653\n",
       "20    secondary_cleaner.state.floatbank6_a_air    -1.001472\n",
       "46    secondary_cleaner.state.floatbank3_b_air    -1.031821\n",
       "35    secondary_cleaner.state.floatbank2_b_air    -1.077363\n",
       "42             rougher.state.floatbank10_c_air    -1.120610\n",
       "45  secondary_cleaner.state.floatbank3_a_level    -1.221200\n",
       "2   secondary_cleaner.state.floatbank2_b_level    -1.244061\n",
       "5            rougher.input.floatbank10_sulfate    -1.334126\n",
       "34           rougher.state.floatbank10_d_level    -1.393883\n",
       "43           rougher.state.floatbank10_e_level    -1.516149\n",
       "12             rougher.state.floatbank10_a_air    -1.576127\n",
       "33             rougher.state.floatbank10_e_air    -1.641900\n",
       "31                     rougher.input.feed_rate    -1.701204"
      ]
     },
     "execution_count": 50,
     "metadata": {},
     "output_type": "execute_result"
    }
   ],
   "source": [
    "LR.fit(X_train, y_train)\n",
    "coeff_df = pd.DataFrame()\n",
    "coeff_df['Feature'] = df_train_filtered.drop(['rougher.output.recovery','final.output.recovery','date'], axis=1).columns.values\n",
    "coeff_df[\"Correlation\"] = pd.Series(LR.coef_[0])\n",
    "\n",
    "coeff_df.sort_values(by='Correlation', ascending=False)"
   ]
  },
  {
   "cell_type": "markdown",
   "metadata": {},
   "source": [
    "From the above table we can see that `rougher.state.floatbank10_f_air` has the highest impact on the target variables. The features with scores close to 0 have almost no impact on the targets and can be eliminated."
   ]
  },
  {
   "cell_type": "code",
   "execution_count": 51,
   "metadata": {},
   "outputs": [],
   "source": [
    "profitable_params = coeff_df.loc[abs(coeff_df[\"Correlation\"]) > 0.1 , 'Feature']"
   ]
  },
  {
   "cell_type": "code",
   "execution_count": 52,
   "metadata": {},
   "outputs": [],
   "source": [
    "df_train_params = df_train_filtered[profitable_params]\n",
    "df_test_params = df_test[profitable_params]\n",
    "\n",
    "df_train_params[['rougher.output.recovery', 'final.output.recovery']] = df_train_filtered[['rougher.output.recovery', 'final.output.recovery']]\n",
    "df_test_params[['rougher.output.recovery', 'final.output.recovery']] = df_test[['rougher.output.recovery', 'final.output.recovery']]\n"
   ]
  },
  {
   "cell_type": "code",
   "execution_count": 53,
   "metadata": {},
   "outputs": [],
   "source": [
    "X_train = df_train_params.drop(['rougher.output.recovery', 'final.output.recovery'], axis=1)\n",
    "X_test =  df_test_params.drop(['rougher.output.recovery', 'final.output.recovery'], axis=1)\n",
    "y_train = df_train_params[['rougher.output.recovery', 'final.output.recovery']].values\n",
    "y_test = df_test_params[['rougher.output.recovery', 'final.output.recovery']].values\n",
    "\n",
    "sc = ss()\n",
    "X_train = sc.fit_transform(X_train)\n",
    "X_test = sc.transform(X_test)"
   ]
  },
  {
   "cell_type": "code",
   "execution_count": 54,
   "metadata": {},
   "outputs": [
    {
     "data": {
      "text/plain": [
       "0.08686861820512749"
      ]
     },
     "execution_count": 54,
     "metadata": {},
     "output_type": "execute_result"
    }
   ],
   "source": [
    "Lasso = linear_model.Lasso(alpha=0.1, tol=0.001, max_iter=100)\n",
    "Lasso.fit(X_train, y_train)\n",
    "y_pred = Lasso.predict(X_test)\n",
    "smape_final_score = smape_final(y_test, y_pred)\n",
    "smape_final_score"
   ]
  },
  {
   "cell_type": "markdown",
   "metadata": {},
   "source": [
    "## Sanity check\n",
    "\n",
    "Let's calculate the test baseline score to perform this check."
   ]
  },
  {
   "cell_type": "code",
   "execution_count": 55,
   "metadata": {},
   "outputs": [
    {
     "data": {
      "text/plain": [
       "0.09583114141226579"
      ]
     },
     "execution_count": 55,
     "metadata": {},
     "output_type": "execute_result"
    }
   ],
   "source": [
    "base_model = DummyRegressor(strategy='mean')\n",
    "base_model.fit(X_train, y_train)\n",
    "y_pred = base_model.predict(X_test)\n",
    "smape_final_base = smape_final(y_test, y_pred)\n",
    "smape_final_base"
   ]
  },
  {
   "cell_type": "code",
   "execution_count": 56,
   "metadata": {},
   "outputs": [
    {
     "name": "stdout",
     "output_type": "stream",
     "text": [
      "9.0 %\n"
     ]
    }
   ],
   "source": [
    "print(round((smape_final_base - smape_final_score)/smape_final_base,2)*100,'%')"
   ]
  },
  {
   "cell_type": "markdown",
   "metadata": {},
   "source": [
    "Lasso model cross-validation score is lower than the baseline score by 9%."
   ]
  },
  {
   "cell_type": "markdown",
   "metadata": {},
   "source": [
    "---"
   ]
  },
  {
   "cell_type": "markdown",
   "metadata": {},
   "source": [
    "# Conclusion"
   ]
  },
  {
   "cell_type": "markdown",
   "metadata": {},
   "source": [
    "In this project  have developed a machine learning model for Zyfra, efficiency solutions for heavy industry company, that analyzes data on extraction and purification of gold from an ore and predicts the amount of recovered gold. The model helps to eliminate unprofitable parameters.\n",
    "\n",
    "First of all, I have familiarized ourselves with the data by performing the descriptive statistics. I found missing values, wrong `date` column data type. \n",
    "\n",
    "Next, I've checked the recovery calculation in the dataset. It turned out to be performed correctly as the MAE value between the `rougher.output.recovery` column. \n",
    "\n",
    "I found that some features are missing from the test set as they are directly connected to the target variables (types output and calculation).\n",
    "\n",
    "In the preprocessing step I have converted `date` column data type to datetime, filled missing tenure values with the mean per each column and checked for duplicated values. In order to be able to use an ML model, removed those extra features from the train set, so that both train and test set have the same shapes.\n",
    " \n",
    "In the following section I have performed **EDA** and reached the following conclusions:\n",
    "\n",
    "- As for the gold concentration (au), there is a clear trend towards quality improvement after each stage: the share of gold is higher and higher on average as we proceed with purification (from 20% to more than 45%, on average).\n",
    "\n",
    "- We see the opposite trend for silver concentration (ag): the more we purify the feed, the lower gets the share of this metal (from around 11% to less than 5%, on average).\n",
    "\n",
    "- As for the lead concentration (pb), we can say that there is probably no need for the second purification stage, as the quality of this metal doesn't improve, on average. However, we see a slight improvement after the first stage (from around 8% to almost 11%, on average).\n",
    "\n",
    "- The train and test distributions of feed particle sizes are very close to each other, which means that we will not have a problem of applying a model trained on the train set to the test set.\n",
    "\n",
    "- I found some outliers in the target variables and removed them.\n",
    "\n",
    "In the next step I've developed and tested, using cross-validation, several ML algorithms and tuned the best model's hyperparameters. Lasso regression model showed the lowest score. \n",
    "\n",
    "The selected model appeared to be overfitting to the train set, so I decided to implement feature selection method to reduce the overfitting. I have measured feature importances using the coefficients from the Linear Regression model and identified the most profitable parameters.\n",
    "\n",
    "Then I have tested our model on the test set. I've reached 6.8% error rate on the test set.\n",
    "\n",
    "Finally, I checked the model for sanity by comparing the final score to the baseline score. The final score of our model is lower (by 9%) than the baseline score."
   ]
  },
  {
   "cell_type": "code",
   "execution_count": null,
   "metadata": {},
   "outputs": [],
   "source": []
  }
 ],
 "metadata": {
  "ExecuteTimeLog": [
   {
    "duration": 2016,
    "start_time": "2021-08-08T07:36:26.731Z"
   },
   {
    "duration": 1797,
    "start_time": "2021-08-08T07:36:28.751Z"
   },
   {
    "duration": 172,
    "start_time": "2021-08-08T07:36:30.553Z"
   },
   {
    "duration": 88,
    "start_time": "2021-08-08T07:36:30.728Z"
   },
   {
    "duration": 27,
    "start_time": "2021-08-08T07:36:30.819Z"
   },
   {
    "duration": 43,
    "start_time": "2021-08-08T07:36:30.850Z"
   },
   {
    "duration": 39,
    "start_time": "2021-08-08T07:36:30.902Z"
   },
   {
    "duration": 32,
    "start_time": "2021-08-08T07:36:30.947Z"
   },
   {
    "duration": 17,
    "start_time": "2021-08-08T07:36:30.983Z"
   },
   {
    "duration": 36,
    "start_time": "2021-08-08T07:36:31.004Z"
   },
   {
    "duration": 34,
    "start_time": "2021-08-08T07:36:31.043Z"
   },
   {
    "duration": 36,
    "start_time": "2021-08-08T07:36:31.082Z"
   },
   {
    "duration": 24,
    "start_time": "2021-08-08T07:36:31.122Z"
   },
   {
    "duration": 43,
    "start_time": "2021-08-08T07:36:31.150Z"
   },
   {
    "duration": 15,
    "start_time": "2021-08-08T07:36:31.197Z"
   },
   {
    "duration": 44,
    "start_time": "2021-08-08T07:36:31.216Z"
   },
   {
    "duration": 31,
    "start_time": "2021-08-08T07:36:31.264Z"
   },
   {
    "duration": 7,
    "start_time": "2021-08-08T07:36:31.300Z"
   },
   {
    "duration": 28,
    "start_time": "2021-08-08T07:36:31.311Z"
   },
   {
    "duration": 22,
    "start_time": "2021-08-08T07:36:31.343Z"
   },
   {
    "duration": 177,
    "start_time": "2021-08-08T07:36:31.369Z"
   },
   {
    "duration": 68,
    "start_time": "2021-08-08T07:36:31.549Z"
   },
   {
    "duration": 7178,
    "start_time": "2021-08-08T07:36:31.624Z"
   },
   {
    "duration": 1051,
    "start_time": "2021-08-08T07:36:38.807Z"
   },
   {
    "duration": 2060,
    "start_time": "2021-08-08T07:36:39.860Z"
   },
   {
    "duration": 390,
    "start_time": "2021-08-08T07:36:41.923Z"
   },
   {
    "duration": 11,
    "start_time": "2021-08-08T07:36:42.315Z"
   },
   {
    "duration": 6,
    "start_time": "2021-08-08T07:36:42.329Z"
   },
   {
    "duration": 1778,
    "start_time": "2021-08-08T07:36:42.338Z"
   },
   {
    "duration": 80,
    "start_time": "2021-08-08T07:36:44.119Z"
   },
   {
    "duration": 8,
    "start_time": "2021-08-08T07:36:44.202Z"
   },
   {
    "duration": 8,
    "start_time": "2021-08-08T07:36:44.213Z"
   },
   {
    "duration": 11,
    "start_time": "2021-08-08T07:36:44.224Z"
   },
   {
    "duration": 73,
    "start_time": "2021-08-08T07:36:44.238Z"
   },
   {
    "duration": 4,
    "start_time": "2021-08-08T07:36:44.314Z"
   },
   {
    "duration": 5,
    "start_time": "2021-08-08T07:36:44.322Z"
   },
   {
    "duration": 9,
    "start_time": "2021-08-08T07:36:44.330Z"
   },
   {
    "duration": 7,
    "start_time": "2021-08-08T07:36:44.342Z"
   },
   {
    "duration": 37222,
    "start_time": "2021-08-08T07:36:44.351Z"
   },
   {
    "duration": 14,
    "start_time": "2021-08-08T07:37:21.575Z"
   },
   {
    "duration": 345,
    "start_time": "2021-08-08T07:37:21.592Z"
   },
   {
    "duration": 108155,
    "start_time": "2021-08-08T07:37:21.940Z"
   },
   {
    "duration": 12115,
    "start_time": "2021-08-08T07:39:10.099Z"
   },
   {
    "duration": 501,
    "start_time": "2021-08-08T07:39:22.217Z"
   },
   {
    "duration": 6,
    "start_time": "2021-08-08T07:39:22.722Z"
   },
   {
    "duration": 69,
    "start_time": "2021-08-08T07:39:22.732Z"
   },
   {
    "duration": 33,
    "start_time": "2021-08-08T07:39:22.810Z"
   },
   {
    "duration": 9061,
    "start_time": "2021-08-08T07:39:22.846Z"
   },
   {
    "duration": 12,
    "start_time": "2021-08-08T07:39:31.911Z"
   },
   {
    "duration": 76,
    "start_time": "2021-08-08T07:39:31.927Z"
   },
   {
    "duration": 1634,
    "start_time": "2021-08-08T09:43:04.806Z"
   },
   {
    "duration": 1238,
    "start_time": "2021-08-08T09:43:06.443Z"
   },
   {
    "duration": 103,
    "start_time": "2021-08-08T09:43:07.686Z"
   },
   {
    "duration": 60,
    "start_time": "2021-08-08T09:43:07.792Z"
   },
   {
    "duration": 44,
    "start_time": "2021-08-08T09:43:07.854Z"
   },
   {
    "duration": 15,
    "start_time": "2021-08-08T09:43:07.901Z"
   },
   {
    "duration": 13,
    "start_time": "2021-08-08T09:43:07.919Z"
   },
   {
    "duration": 56,
    "start_time": "2021-08-08T09:43:07.936Z"
   },
   {
    "duration": 8,
    "start_time": "2021-08-08T09:43:07.994Z"
   },
   {
    "duration": 8,
    "start_time": "2021-08-08T09:43:08.004Z"
   },
   {
    "duration": 14,
    "start_time": "2021-08-08T09:43:08.014Z"
   },
   {
    "duration": 17,
    "start_time": "2021-08-08T09:43:08.031Z"
   },
   {
    "duration": 50,
    "start_time": "2021-08-08T09:43:08.050Z"
   },
   {
    "duration": 11,
    "start_time": "2021-08-08T09:43:08.102Z"
   },
   {
    "duration": 10,
    "start_time": "2021-08-08T09:43:08.115Z"
   },
   {
    "duration": 24,
    "start_time": "2021-08-08T09:43:08.127Z"
   },
   {
    "duration": 9,
    "start_time": "2021-08-08T09:43:08.185Z"
   },
   {
    "duration": 5,
    "start_time": "2021-08-08T09:43:08.197Z"
   },
   {
    "duration": 19,
    "start_time": "2021-08-08T09:43:08.204Z"
   },
   {
    "duration": 6,
    "start_time": "2021-08-08T09:43:08.225Z"
   },
   {
    "duration": 138,
    "start_time": "2021-08-08T09:43:08.233Z"
   },
   {
    "duration": 45,
    "start_time": "2021-08-08T09:43:08.373Z"
   },
   {
    "duration": 5427,
    "start_time": "2021-08-08T09:43:08.423Z"
   },
   {
    "duration": 793,
    "start_time": "2021-08-08T09:43:13.853Z"
   },
   {
    "duration": 1740,
    "start_time": "2021-08-08T09:43:14.649Z"
   },
   {
    "duration": 379,
    "start_time": "2021-08-08T09:43:16.392Z"
   },
   {
    "duration": 12,
    "start_time": "2021-08-08T09:43:16.774Z"
   },
   {
    "duration": 9,
    "start_time": "2021-08-08T09:43:16.790Z"
   },
   {
    "duration": 1453,
    "start_time": "2021-08-08T09:43:16.801Z"
   },
   {
    "duration": 69,
    "start_time": "2021-08-08T09:43:18.257Z"
   },
   {
    "duration": 10,
    "start_time": "2021-08-08T09:43:18.328Z"
   },
   {
    "duration": 6,
    "start_time": "2021-08-08T09:43:18.341Z"
   },
   {
    "duration": 42,
    "start_time": "2021-08-08T09:43:18.350Z"
   },
   {
    "duration": 37,
    "start_time": "2021-08-08T09:43:18.395Z"
   },
   {
    "duration": 5,
    "start_time": "2021-08-08T09:43:18.434Z"
   },
   {
    "duration": 6,
    "start_time": "2021-08-08T09:43:18.443Z"
   },
   {
    "duration": 35,
    "start_time": "2021-08-08T09:43:18.452Z"
   },
   {
    "duration": 7,
    "start_time": "2021-08-08T09:43:18.489Z"
   },
   {
    "duration": 29521,
    "start_time": "2021-08-08T09:43:18.499Z"
   },
   {
    "duration": 7,
    "start_time": "2021-08-08T09:43:48.022Z"
   },
   {
    "duration": 314,
    "start_time": "2021-08-08T09:43:48.031Z"
   },
   {
    "duration": 118840,
    "start_time": "2021-08-08T09:43:48.347Z"
   },
   {
    "duration": 1595,
    "start_time": "2021-08-08T09:45:47.190Z"
   },
   {
    "duration": 500,
    "start_time": "2021-08-08T09:45:48.789Z"
   },
   {
    "duration": 5,
    "start_time": "2021-08-08T09:45:49.291Z"
   },
   {
    "duration": 20,
    "start_time": "2021-08-08T09:45:49.299Z"
   },
   {
    "duration": 63,
    "start_time": "2021-08-08T09:45:49.322Z"
   },
   {
    "duration": 2003,
    "start_time": "2021-08-08T09:45:49.388Z"
   },
   {
    "duration": 9,
    "start_time": "2021-08-08T09:45:51.393Z"
   },
   {
    "duration": 84,
    "start_time": "2021-08-08T09:45:51.405Z"
   },
   {
    "duration": 1211,
    "start_time": "2021-08-08T12:48:52.798Z"
   },
   {
    "duration": 6137,
    "start_time": "2021-08-08T12:48:54.011Z"
   },
   {
    "duration": 65,
    "start_time": "2021-08-08T12:49:00.150Z"
   },
   {
    "duration": 34,
    "start_time": "2021-08-08T12:49:00.217Z"
   },
   {
    "duration": 22,
    "start_time": "2021-08-08T12:49:00.253Z"
   },
   {
    "duration": 11,
    "start_time": "2021-08-08T12:49:00.291Z"
   },
   {
    "duration": 5,
    "start_time": "2021-08-08T12:49:00.303Z"
   },
   {
    "duration": 35,
    "start_time": "2021-08-08T12:49:00.310Z"
   },
   {
    "duration": 4,
    "start_time": "2021-08-08T12:49:00.347Z"
   },
   {
    "duration": 13,
    "start_time": "2021-08-08T12:49:00.352Z"
   },
   {
    "duration": 20,
    "start_time": "2021-08-08T12:49:00.367Z"
   },
   {
    "duration": 24,
    "start_time": "2021-08-08T12:49:00.388Z"
   },
   {
    "duration": 22,
    "start_time": "2021-08-08T12:49:00.413Z"
   },
   {
    "duration": 29,
    "start_time": "2021-08-08T12:49:00.436Z"
   },
   {
    "duration": 24,
    "start_time": "2021-08-08T12:49:00.467Z"
   },
   {
    "duration": 31,
    "start_time": "2021-08-08T12:49:00.492Z"
   },
   {
    "duration": 10,
    "start_time": "2021-08-08T12:49:00.525Z"
   },
   {
    "duration": 24,
    "start_time": "2021-08-08T12:49:00.536Z"
   },
   {
    "duration": 29,
    "start_time": "2021-08-08T12:49:00.561Z"
   },
   {
    "duration": 19,
    "start_time": "2021-08-08T12:49:00.591Z"
   },
   {
    "duration": 68,
    "start_time": "2021-08-08T12:49:00.611Z"
   },
   {
    "duration": 24,
    "start_time": "2021-08-08T12:49:00.680Z"
   },
   {
    "duration": 2905,
    "start_time": "2021-08-08T12:49:00.707Z"
   },
   {
    "duration": 518,
    "start_time": "2021-08-08T12:49:03.614Z"
   },
   {
    "duration": 821,
    "start_time": "2021-08-08T12:49:04.134Z"
   },
   {
    "duration": 134,
    "start_time": "2021-08-08T12:49:04.957Z"
   },
   {
    "duration": 6,
    "start_time": "2021-08-08T12:49:05.093Z"
   },
   {
    "duration": 10,
    "start_time": "2021-08-08T12:49:05.100Z"
   },
   {
    "duration": 834,
    "start_time": "2021-08-08T12:49:05.111Z"
   },
   {
    "duration": 21,
    "start_time": "2021-08-08T12:49:05.946Z"
   },
   {
    "duration": 4,
    "start_time": "2021-08-08T12:49:05.968Z"
   },
   {
    "duration": 18,
    "start_time": "2021-08-08T12:49:05.974Z"
   },
   {
    "duration": 9,
    "start_time": "2021-08-08T12:49:05.994Z"
   },
   {
    "duration": 22,
    "start_time": "2021-08-08T12:49:06.004Z"
   },
   {
    "duration": 3,
    "start_time": "2021-08-08T12:49:06.027Z"
   },
   {
    "duration": 6,
    "start_time": "2021-08-08T12:49:06.031Z"
   },
   {
    "duration": 9,
    "start_time": "2021-08-08T12:49:06.039Z"
   },
   {
    "duration": 7,
    "start_time": "2021-08-08T12:49:06.049Z"
   },
   {
    "duration": 22352,
    "start_time": "2021-08-08T12:49:06.057Z"
   },
   {
    "duration": 4,
    "start_time": "2021-08-08T12:49:28.411Z"
   },
   {
    "duration": 170,
    "start_time": "2021-08-08T12:49:28.417Z"
   },
   {
    "duration": 87702,
    "start_time": "2021-08-08T12:49:28.591Z"
   },
   {
    "duration": 799,
    "start_time": "2021-08-08T12:50:56.294Z"
   },
   {
    "duration": 206,
    "start_time": "2021-08-08T12:50:57.095Z"
   },
   {
    "duration": 89,
    "start_time": "2021-08-08T12:50:57.303Z"
   },
   {
    "duration": 14,
    "start_time": "2021-08-08T12:50:57.393Z"
   },
   {
    "duration": 26,
    "start_time": "2021-08-08T12:50:57.409Z"
   },
   {
    "duration": 560,
    "start_time": "2021-08-08T12:50:57.436Z"
   },
   {
    "duration": 95,
    "start_time": "2021-08-08T12:50:57.998Z"
   },
   {
    "duration": 5,
    "start_time": "2021-08-08T12:50:58.095Z"
   },
   {
    "duration": 9,
    "start_time": "2021-08-08T14:22:22.278Z"
   },
   {
    "duration": 1173,
    "start_time": "2021-08-08T14:22:40.327Z"
   },
   {
    "duration": 847,
    "start_time": "2021-08-08T14:22:41.502Z"
   },
   {
    "duration": 61,
    "start_time": "2021-08-08T14:22:42.351Z"
   },
   {
    "duration": 31,
    "start_time": "2021-08-08T14:22:42.413Z"
   },
   {
    "duration": 18,
    "start_time": "2021-08-08T14:22:42.445Z"
   },
   {
    "duration": 28,
    "start_time": "2021-08-08T14:22:42.464Z"
   },
   {
    "duration": 4,
    "start_time": "2021-08-08T14:22:42.493Z"
   },
   {
    "duration": 17,
    "start_time": "2021-08-08T14:22:42.500Z"
   },
   {
    "duration": 4,
    "start_time": "2021-08-08T14:22:42.519Z"
   },
   {
    "duration": 5,
    "start_time": "2021-08-08T14:22:42.524Z"
   },
   {
    "duration": 11,
    "start_time": "2021-08-08T14:22:42.530Z"
   },
   {
    "duration": 9,
    "start_time": "2021-08-08T14:22:42.542Z"
   },
   {
    "duration": 14,
    "start_time": "2021-08-08T14:22:42.552Z"
   },
   {
    "duration": 29,
    "start_time": "2021-08-08T14:22:42.567Z"
   },
   {
    "duration": 8,
    "start_time": "2021-08-08T14:22:42.597Z"
   },
   {
    "duration": 5,
    "start_time": "2021-08-08T14:22:42.606Z"
   },
   {
    "duration": 20,
    "start_time": "2021-08-08T14:22:42.613Z"
   },
   {
    "duration": 6,
    "start_time": "2021-08-08T14:22:42.635Z"
   },
   {
    "duration": 8,
    "start_time": "2021-08-08T14:22:42.642Z"
   },
   {
    "duration": 12,
    "start_time": "2021-08-08T14:22:42.651Z"
   },
   {
    "duration": 5,
    "start_time": "2021-08-08T14:22:42.665Z"
   },
   {
    "duration": 72,
    "start_time": "2021-08-08T14:22:42.672Z"
   },
   {
    "duration": 21,
    "start_time": "2021-08-08T14:22:42.747Z"
   },
   {
    "duration": 3354,
    "start_time": "2021-08-08T14:22:42.770Z"
   },
   {
    "duration": 910,
    "start_time": "2021-08-08T14:22:46.126Z"
   },
   {
    "duration": 1154,
    "start_time": "2021-08-08T14:22:47.038Z"
   },
   {
    "duration": 137,
    "start_time": "2021-08-08T14:22:48.193Z"
   },
   {
    "duration": 6,
    "start_time": "2021-08-08T14:22:48.332Z"
   },
   {
    "duration": 5,
    "start_time": "2021-08-08T14:22:48.340Z"
   },
   {
    "duration": 1362,
    "start_time": "2021-08-08T14:22:48.347Z"
   },
   {
    "duration": 21,
    "start_time": "2021-08-08T14:22:49.711Z"
   },
   {
    "duration": 5,
    "start_time": "2021-08-08T14:22:49.734Z"
   },
   {
    "duration": 5,
    "start_time": "2021-08-08T14:22:49.740Z"
   },
   {
    "duration": 9,
    "start_time": "2021-08-08T14:22:49.746Z"
   },
   {
    "duration": 46,
    "start_time": "2021-08-08T14:22:49.756Z"
   },
   {
    "duration": 3,
    "start_time": "2021-08-08T14:22:49.803Z"
   },
   {
    "duration": 6,
    "start_time": "2021-08-08T14:22:49.807Z"
   },
   {
    "duration": 5,
    "start_time": "2021-08-08T14:22:49.815Z"
   },
   {
    "duration": 5,
    "start_time": "2021-08-08T14:22:49.822Z"
   },
   {
    "duration": 22387,
    "start_time": "2021-08-08T14:22:49.828Z"
   },
   {
    "duration": 4,
    "start_time": "2021-08-08T14:23:12.217Z"
   },
   {
    "duration": 171,
    "start_time": "2021-08-08T14:23:12.222Z"
   },
   {
    "duration": 92299,
    "start_time": "2021-08-08T14:23:12.395Z"
   },
   {
    "duration": 1402,
    "start_time": "2021-08-08T14:24:44.696Z"
   },
   {
    "duration": 492,
    "start_time": "2021-08-08T14:24:46.101Z"
   },
   {
    "duration": 4,
    "start_time": "2021-08-08T14:24:46.595Z"
   },
   {
    "duration": 12,
    "start_time": "2021-08-08T14:24:46.601Z"
   },
   {
    "duration": 84,
    "start_time": "2021-08-08T14:24:46.615Z"
   },
   {
    "duration": 1093,
    "start_time": "2021-08-08T14:24:46.700Z"
   },
   {
    "duration": 7,
    "start_time": "2021-08-08T14:24:47.796Z"
   },
   {
    "duration": 7,
    "start_time": "2021-08-08T14:24:47.891Z"
   },
   {
    "duration": 1712,
    "start_time": "2021-09-03T15:22:51.465Z"
   },
   {
    "duration": 1636,
    "start_time": "2021-09-03T15:22:53.183Z"
   },
   {
    "duration": 96,
    "start_time": "2021-09-03T15:22:54.822Z"
   },
   {
    "duration": 74,
    "start_time": "2021-09-03T15:22:54.921Z"
   },
   {
    "duration": 25,
    "start_time": "2021-09-03T15:22:54.997Z"
   },
   {
    "duration": 17,
    "start_time": "2021-09-03T15:22:55.024Z"
   },
   {
    "duration": 7,
    "start_time": "2021-09-03T15:22:55.043Z"
   },
   {
    "duration": 51,
    "start_time": "2021-09-03T15:22:55.053Z"
   },
   {
    "duration": 6,
    "start_time": "2021-09-03T15:22:55.107Z"
   },
   {
    "duration": 16,
    "start_time": "2021-09-03T15:22:55.115Z"
   },
   {
    "duration": 19,
    "start_time": "2021-09-03T15:22:55.133Z"
   },
   {
    "duration": 33,
    "start_time": "2021-09-03T15:22:55.155Z"
   },
   {
    "duration": 23,
    "start_time": "2021-09-03T15:22:55.190Z"
   },
   {
    "duration": 15,
    "start_time": "2021-09-03T15:22:55.215Z"
   },
   {
    "duration": 29,
    "start_time": "2021-09-03T15:22:55.233Z"
   },
   {
    "duration": 30,
    "start_time": "2021-09-03T15:22:55.265Z"
   },
   {
    "duration": 9,
    "start_time": "2021-09-03T15:22:55.297Z"
   },
   {
    "duration": 23,
    "start_time": "2021-09-03T15:22:55.308Z"
   },
   {
    "duration": 24,
    "start_time": "2021-09-03T15:22:55.333Z"
   },
   {
    "duration": 10,
    "start_time": "2021-09-03T15:22:55.359Z"
   },
   {
    "duration": 112,
    "start_time": "2021-09-03T15:22:55.372Z"
   },
   {
    "duration": 39,
    "start_time": "2021-09-03T15:22:55.486Z"
   },
   {
    "duration": 4310,
    "start_time": "2021-09-03T15:22:55.530Z"
   },
   {
    "duration": 797,
    "start_time": "2021-09-03T15:22:59.843Z"
   },
   {
    "duration": 1502,
    "start_time": "2021-09-03T15:23:00.642Z"
   },
   {
    "duration": 244,
    "start_time": "2021-09-03T15:23:02.146Z"
   },
   {
    "duration": 9,
    "start_time": "2021-09-03T15:23:02.392Z"
   },
   {
    "duration": 51,
    "start_time": "2021-09-03T15:23:02.403Z"
   },
   {
    "duration": 1099,
    "start_time": "2021-09-03T15:23:02.456Z"
   },
   {
    "duration": 50,
    "start_time": "2021-09-03T15:23:03.558Z"
   },
   {
    "duration": 7,
    "start_time": "2021-09-03T15:23:03.610Z"
   },
   {
    "duration": 31,
    "start_time": "2021-09-03T15:23:03.619Z"
   },
   {
    "duration": 21,
    "start_time": "2021-09-03T15:23:03.652Z"
   },
   {
    "duration": 30,
    "start_time": "2021-09-03T15:23:03.675Z"
   },
   {
    "duration": 5,
    "start_time": "2021-09-03T15:23:03.707Z"
   },
   {
    "duration": 34,
    "start_time": "2021-09-03T15:23:03.715Z"
   },
   {
    "duration": 12,
    "start_time": "2021-09-03T15:23:03.751Z"
   },
   {
    "duration": 23,
    "start_time": "2021-09-03T15:23:03.765Z"
   },
   {
    "duration": 29013,
    "start_time": "2021-09-03T15:23:03.790Z"
   },
   {
    "duration": 6,
    "start_time": "2021-09-03T15:23:32.806Z"
   },
   {
    "duration": 375,
    "start_time": "2021-09-03T15:23:32.814Z"
   },
   {
    "duration": 111396,
    "start_time": "2021-09-03T15:23:33.191Z"
   },
   {
    "duration": 2694,
    "start_time": "2021-09-03T15:25:24.589Z"
   },
   {
    "duration": 310,
    "start_time": "2021-09-03T15:25:27.291Z"
   },
   {
    "duration": 5,
    "start_time": "2021-09-03T15:25:27.604Z"
   },
   {
    "duration": 17,
    "start_time": "2021-09-03T15:25:27.683Z"
   },
   {
    "duration": 29,
    "start_time": "2021-09-03T15:25:27.703Z"
   },
   {
    "duration": 1451,
    "start_time": "2021-09-03T15:25:27.735Z"
   },
   {
    "duration": 96,
    "start_time": "2021-09-03T15:25:29.189Z"
   },
   {
    "duration": 6,
    "start_time": "2021-09-03T15:25:29.288Z"
   },
   {
    "duration": 134,
    "start_time": "2021-09-03T15:52:17.085Z"
   },
   {
    "duration": 5,
    "start_time": "2021-09-03T16:16:48.060Z"
   },
   {
    "duration": 1280,
    "start_time": "2021-09-03T16:25:57.468Z"
   },
   {
    "duration": 2542,
    "start_time": "2021-09-03T16:26:19.803Z"
   },
   {
    "duration": 11,
    "start_time": "2021-09-03T16:29:18.957Z"
   },
   {
    "duration": 11,
    "start_time": "2021-09-03T16:29:24.396Z"
   },
   {
    "duration": 991,
    "start_time": "2021-09-03T16:29:24.410Z"
   },
   {
    "duration": 101,
    "start_time": "2021-09-03T16:29:25.403Z"
   },
   {
    "duration": 59,
    "start_time": "2021-09-03T16:29:25.506Z"
   },
   {
    "duration": 24,
    "start_time": "2021-09-03T16:29:25.583Z"
   },
   {
    "duration": 18,
    "start_time": "2021-09-03T16:29:25.609Z"
   },
   {
    "duration": 7,
    "start_time": "2021-09-03T16:29:25.629Z"
   },
   {
    "duration": 59,
    "start_time": "2021-09-03T16:29:25.641Z"
   },
   {
    "duration": 7,
    "start_time": "2021-09-03T16:29:25.702Z"
   },
   {
    "duration": 6,
    "start_time": "2021-09-03T16:29:25.712Z"
   },
   {
    "duration": 13,
    "start_time": "2021-09-03T16:29:25.721Z"
   },
   {
    "duration": 48,
    "start_time": "2021-09-03T16:29:25.736Z"
   },
   {
    "duration": 16,
    "start_time": "2021-09-03T16:29:25.787Z"
   },
   {
    "duration": 10,
    "start_time": "2021-09-03T16:29:25.805Z"
   },
   {
    "duration": 8,
    "start_time": "2021-09-03T16:29:25.817Z"
   },
   {
    "duration": 12,
    "start_time": "2021-09-03T16:29:25.827Z"
   },
   {
    "duration": 62,
    "start_time": "2021-09-08T13:05:28.935Z"
   }
  ],
  "kernelspec": {
   "display_name": "Python 3",
   "language": "python",
   "name": "python3"
  },
  "language_info": {
   "codemirror_mode": {
    "name": "ipython",
    "version": 3
   },
   "file_extension": ".py",
   "mimetype": "text/x-python",
   "name": "python",
   "nbconvert_exporter": "python",
   "pygments_lexer": "ipython3",
   "version": "3.7.6"
  },
  "toc": {
   "base_numbering": 1,
   "nav_menu": {},
   "number_sections": false,
   "sideBar": true,
   "skip_h1_title": true,
   "title_cell": "Table of Contents",
   "title_sidebar": "Contents",
   "toc_cell": true,
   "toc_position": {},
   "toc_section_display": true,
   "toc_window_display": false
  },
  "varInspector": {
   "cols": {
    "lenName": 16,
    "lenType": 16,
    "lenVar": 40
   },
   "kernels_config": {
    "python": {
     "delete_cmd_postfix": "",
     "delete_cmd_prefix": "del ",
     "library": "var_list.py",
     "varRefreshCmd": "print(var_dic_list())"
    },
    "r": {
     "delete_cmd_postfix": ") ",
     "delete_cmd_prefix": "rm(",
     "library": "var_list.r",
     "varRefreshCmd": "cat(var_dic_list()) "
    }
   },
   "types_to_exclude": [
    "module",
    "function",
    "builtin_function_or_method",
    "instance",
    "_Feature"
   ],
   "window_display": false
  }
 },
 "nbformat": 4,
 "nbformat_minor": 4
}
